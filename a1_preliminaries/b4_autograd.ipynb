{
 "cells": [
  {
   "cell_type": "code",
   "execution_count": 10,
   "metadata": {
    "collapsed": true
   },
   "outputs": [
    {
     "data": {
      "text/plain": "tensor([0., 1., 2., 3.])"
     },
     "execution_count": 10,
     "metadata": {},
     "output_type": "execute_result"
    }
   ],
   "source": [
    "import torch\n",
    "x = torch.arange(4.0)\n",
    "x"
   ]
  },
  {
   "cell_type": "code",
   "execution_count": 12,
   "outputs": [
    {
     "data": {
      "text/plain": "tensor([0., 1., 2., 3.], requires_grad=True)"
     },
     "execution_count": 12,
     "metadata": {},
     "output_type": "execute_result"
    }
   ],
   "source": [
    "x.requires_grad_(True)\n",
    "x.grad\n",
    "x"
   ],
   "metadata": {
    "collapsed": false
   }
  },
  {
   "cell_type": "code",
   "execution_count": 13,
   "outputs": [],
   "source": [
    "x.grad"
   ],
   "metadata": {
    "collapsed": false
   }
  },
  {
   "cell_type": "code",
   "execution_count": 14,
   "outputs": [
    {
     "data": {
      "text/plain": "tensor(28., grad_fn=<MulBackward0>)"
     },
     "execution_count": 14,
     "metadata": {},
     "output_type": "execute_result"
    }
   ],
   "source": [
    "y = 2 * torch.dot(x, x)\n",
    "y"
   ],
   "metadata": {
    "collapsed": false
   }
  },
  {
   "cell_type": "code",
   "execution_count": 15,
   "outputs": [
    {
     "data": {
      "text/plain": "tensor([ 0.,  4.,  8., 12.])"
     },
     "execution_count": 15,
     "metadata": {},
     "output_type": "execute_result"
    }
   ],
   "source": [
    "y.backward()\n",
    "x.grad"
   ],
   "metadata": {
    "collapsed": false
   }
  },
  {
   "cell_type": "code",
   "execution_count": 16,
   "outputs": [
    {
     "data": {
      "text/plain": "tensor([True, True, True, True])"
     },
     "execution_count": 16,
     "metadata": {},
     "output_type": "execute_result"
    }
   ],
   "source": [
    "x.grad == 4 * x"
   ],
   "metadata": {
    "collapsed": false
   }
  },
  {
   "cell_type": "code",
   "execution_count": 17,
   "outputs": [
    {
     "data": {
      "text/plain": "tensor([1., 1., 1., 1.])"
     },
     "execution_count": 17,
     "metadata": {},
     "output_type": "execute_result"
    }
   ],
   "source": [
    "x.grad.zero_()\n",
    "y = x.sum()\n",
    "y.backward()\n",
    "x.grad"
   ],
   "metadata": {
    "collapsed": false
   }
  },
  {
   "cell_type": "code",
   "execution_count": 18,
   "outputs": [
    {
     "data": {
      "text/plain": "tensor([0., 2., 4., 6.])"
     },
     "execution_count": 18,
     "metadata": {},
     "output_type": "execute_result"
    }
   ],
   "source": [
    "x.grad.zero_()\n",
    "y = x * x\n",
    "y.sum().backward()\n",
    "x.grad"
   ],
   "metadata": {
    "collapsed": false
   }
  },
  {
   "cell_type": "code",
   "execution_count": 23,
   "outputs": [
    {
     "data": {
      "text/plain": "(tensor([0., 1., 4., 9.]), tensor([True, True, True, True]))"
     },
     "execution_count": 23,
     "metadata": {},
     "output_type": "execute_result"
    }
   ],
   "source": [
    "x.grad.zero_()\n",
    "y = x * x\n",
    "u = y.detach()\n",
    "z = u * x\n",
    "z.sum().backward()\n",
    "x.grad, x.grad == u"
   ],
   "metadata": {
    "collapsed": false
   }
  },
  {
   "cell_type": "code",
   "execution_count": 24,
   "outputs": [
    {
     "data": {
      "text/plain": "(tensor([0., 2., 4., 6.]), tensor([True, True, True, True]))"
     },
     "execution_count": 24,
     "metadata": {},
     "output_type": "execute_result"
    }
   ],
   "source": [
    "x.grad.zero_()\n",
    "y.sum().backward()\n",
    "x.grad, x.grad == 2 * x"
   ],
   "metadata": {
    "collapsed": false
   }
  },
  {
   "cell_type": "code",
   "execution_count": 25,
   "outputs": [],
   "source": [
    "def f(a):\n",
    "    b = a * 2\n",
    "    while b.norm() < 1000:\n",
    "        b = b * 2\n",
    "    if b.sum() > 0:\n",
    "        c = b\n",
    "    else:\n",
    "        c = 100 * b\n",
    "\n",
    "    return c"
   ],
   "metadata": {
    "collapsed": false
   }
  },
  {
   "cell_type": "code",
   "execution_count": 26,
   "outputs": [],
   "source": [
    "a = torch.randn(size=(), requires_grad=True)\n",
    "d = f(a)\n",
    "d.backward()"
   ],
   "metadata": {
    "collapsed": false
   }
  },
  {
   "cell_type": "code",
   "execution_count": 27,
   "outputs": [
    {
     "data": {
      "text/plain": "(tensor(512.), tensor(True))"
     },
     "execution_count": 27,
     "metadata": {},
     "output_type": "execute_result"
    }
   ],
   "source": [
    "a.grad, a.grad == d / a"
   ],
   "metadata": {
    "collapsed": false
   }
  },
  {
   "cell_type": "code",
   "execution_count": 28,
   "outputs": [],
   "source": [
    "%matplotlib inline\n",
    "import torch\n",
    "from torch.distributions import multinomial\n",
    "from d2l import torch as d2l"
   ],
   "metadata": {
    "collapsed": false
   }
  },
  {
   "cell_type": "code",
   "execution_count": 29,
   "outputs": [],
   "source": [
    "fair_probs = torch.ones([6]) / 6"
   ],
   "metadata": {
    "collapsed": false
   }
  },
  {
   "cell_type": "code",
   "execution_count": 30,
   "outputs": [
    {
     "data": {
      "text/plain": "tensor([0.1667, 0.1667, 0.1667, 0.1667, 0.1667, 0.1667])"
     },
     "execution_count": 30,
     "metadata": {},
     "output_type": "execute_result"
    }
   ],
   "source": [
    "fair_probs"
   ],
   "metadata": {
    "collapsed": false
   }
  },
  {
   "cell_type": "code",
   "execution_count": 31,
   "outputs": [
    {
     "data": {
      "text/plain": "tensor([0., 0., 0., 1., 0., 0.])"
     },
     "execution_count": 31,
     "metadata": {},
     "output_type": "execute_result"
    }
   ],
   "source": [
    "multinomial.Multinomial(1, fair_probs).sample()"
   ],
   "metadata": {
    "collapsed": false
   }
  },
  {
   "cell_type": "code",
   "execution_count": 32,
   "outputs": [
    {
     "data": {
      "text/plain": "tensor([1., 2., 0., 4., 2., 1.])"
     },
     "execution_count": 32,
     "metadata": {},
     "output_type": "execute_result"
    }
   ],
   "source": [
    "multinomial.Multinomial(10, fair_probs).sample()"
   ],
   "metadata": {
    "collapsed": false
   }
  },
  {
   "cell_type": "code",
   "execution_count": 33,
   "outputs": [
    {
     "data": {
      "text/plain": "tensor([0.1530, 0.1540, 0.1590, 0.2070, 0.1700, 0.1570])"
     },
     "execution_count": 33,
     "metadata": {},
     "output_type": "execute_result"
    }
   ],
   "source": [
    "counts = multinomial.Multinomial(1000, fair_probs).sample()\n",
    "counts / 1000"
   ],
   "metadata": {
    "collapsed": false
   }
  },
  {
   "cell_type": "code",
   "execution_count": 34,
   "outputs": [
    {
     "data": {
      "text/plain": "tensor([[1., 4., 3., 1., 0., 1.],\n        [2., 3., 0., 1., 3., 1.],\n        [1., 3., 1., 0., 3., 2.],\n        ...,\n        [3., 1., 2., 1., 1., 2.],\n        [0., 1., 4., 1., 1., 3.],\n        [2., 4., 4., 0., 0., 0.]])"
     },
     "execution_count": 34,
     "metadata": {},
     "output_type": "execute_result"
    }
   ],
   "source": [
    "counts = multinomial.Multinomial(10, fair_probs).sample((500,))\n",
    "counts"
   ],
   "metadata": {
    "collapsed": false
   }
  },
  {
   "cell_type": "code",
   "execution_count": 35,
   "outputs": [
    {
     "data": {
      "text/plain": "torch.Size([500, 6])"
     },
     "execution_count": 35,
     "metadata": {},
     "output_type": "execute_result"
    }
   ],
   "source": [
    "counts.shape"
   ],
   "metadata": {
    "collapsed": false
   }
  },
  {
   "cell_type": "code",
   "execution_count": 36,
   "outputs": [
    {
     "data": {
      "text/plain": "tensor([[  1.,   4.,   3.,   1.,   0.,   1.],\n        [  3.,   7.,   3.,   2.,   3.,   2.],\n        [  4.,  10.,   4.,   2.,   6.,   4.],\n        ...,\n        [818., 834., 807., 842., 837., 842.],\n        [818., 835., 811., 843., 838., 845.],\n        [820., 839., 815., 843., 838., 845.]])"
     },
     "execution_count": 36,
     "metadata": {},
     "output_type": "execute_result"
    }
   ],
   "source": [
    "cum_counts = counts.cumsum(dim=0)\n",
    "cum_counts"
   ],
   "metadata": {
    "collapsed": false
   }
  },
  {
   "cell_type": "code",
   "execution_count": 37,
   "outputs": [
    {
     "data": {
      "text/plain": "torch.Size([500, 6])"
     },
     "execution_count": 37,
     "metadata": {},
     "output_type": "execute_result"
    }
   ],
   "source": [
    "cum_counts.shape"
   ],
   "metadata": {
    "collapsed": false
   }
  },
  {
   "cell_type": "code",
   "execution_count": 38,
   "outputs": [
    {
     "data": {
      "text/plain": "tensor([[  10.],\n        [  20.],\n        [  30.],\n        [  40.],\n        [  50.],\n        [  60.],\n        [  70.],\n        [  80.],\n        [  90.],\n        [ 100.],\n        [ 110.],\n        [ 120.],\n        [ 130.],\n        [ 140.],\n        [ 150.],\n        [ 160.],\n        [ 170.],\n        [ 180.],\n        [ 190.],\n        [ 200.],\n        [ 210.],\n        [ 220.],\n        [ 230.],\n        [ 240.],\n        [ 250.],\n        [ 260.],\n        [ 270.],\n        [ 280.],\n        [ 290.],\n        [ 300.],\n        [ 310.],\n        [ 320.],\n        [ 330.],\n        [ 340.],\n        [ 350.],\n        [ 360.],\n        [ 370.],\n        [ 380.],\n        [ 390.],\n        [ 400.],\n        [ 410.],\n        [ 420.],\n        [ 430.],\n        [ 440.],\n        [ 450.],\n        [ 460.],\n        [ 470.],\n        [ 480.],\n        [ 490.],\n        [ 500.],\n        [ 510.],\n        [ 520.],\n        [ 530.],\n        [ 540.],\n        [ 550.],\n        [ 560.],\n        [ 570.],\n        [ 580.],\n        [ 590.],\n        [ 600.],\n        [ 610.],\n        [ 620.],\n        [ 630.],\n        [ 640.],\n        [ 650.],\n        [ 660.],\n        [ 670.],\n        [ 680.],\n        [ 690.],\n        [ 700.],\n        [ 710.],\n        [ 720.],\n        [ 730.],\n        [ 740.],\n        [ 750.],\n        [ 760.],\n        [ 770.],\n        [ 780.],\n        [ 790.],\n        [ 800.],\n        [ 810.],\n        [ 820.],\n        [ 830.],\n        [ 840.],\n        [ 850.],\n        [ 860.],\n        [ 870.],\n        [ 880.],\n        [ 890.],\n        [ 900.],\n        [ 910.],\n        [ 920.],\n        [ 930.],\n        [ 940.],\n        [ 950.],\n        [ 960.],\n        [ 970.],\n        [ 980.],\n        [ 990.],\n        [1000.],\n        [1010.],\n        [1020.],\n        [1030.],\n        [1040.],\n        [1050.],\n        [1060.],\n        [1070.],\n        [1080.],\n        [1090.],\n        [1100.],\n        [1110.],\n        [1120.],\n        [1130.],\n        [1140.],\n        [1150.],\n        [1160.],\n        [1170.],\n        [1180.],\n        [1190.],\n        [1200.],\n        [1210.],\n        [1220.],\n        [1230.],\n        [1240.],\n        [1250.],\n        [1260.],\n        [1270.],\n        [1280.],\n        [1290.],\n        [1300.],\n        [1310.],\n        [1320.],\n        [1330.],\n        [1340.],\n        [1350.],\n        [1360.],\n        [1370.],\n        [1380.],\n        [1390.],\n        [1400.],\n        [1410.],\n        [1420.],\n        [1430.],\n        [1440.],\n        [1450.],\n        [1460.],\n        [1470.],\n        [1480.],\n        [1490.],\n        [1500.],\n        [1510.],\n        [1520.],\n        [1530.],\n        [1540.],\n        [1550.],\n        [1560.],\n        [1570.],\n        [1580.],\n        [1590.],\n        [1600.],\n        [1610.],\n        [1620.],\n        [1630.],\n        [1640.],\n        [1650.],\n        [1660.],\n        [1670.],\n        [1680.],\n        [1690.],\n        [1700.],\n        [1710.],\n        [1720.],\n        [1730.],\n        [1740.],\n        [1750.],\n        [1760.],\n        [1770.],\n        [1780.],\n        [1790.],\n        [1800.],\n        [1810.],\n        [1820.],\n        [1830.],\n        [1840.],\n        [1850.],\n        [1860.],\n        [1870.],\n        [1880.],\n        [1890.],\n        [1900.],\n        [1910.],\n        [1920.],\n        [1930.],\n        [1940.],\n        [1950.],\n        [1960.],\n        [1970.],\n        [1980.],\n        [1990.],\n        [2000.],\n        [2010.],\n        [2020.],\n        [2030.],\n        [2040.],\n        [2050.],\n        [2060.],\n        [2070.],\n        [2080.],\n        [2090.],\n        [2100.],\n        [2110.],\n        [2120.],\n        [2130.],\n        [2140.],\n        [2150.],\n        [2160.],\n        [2170.],\n        [2180.],\n        [2190.],\n        [2200.],\n        [2210.],\n        [2220.],\n        [2230.],\n        [2240.],\n        [2250.],\n        [2260.],\n        [2270.],\n        [2280.],\n        [2290.],\n        [2300.],\n        [2310.],\n        [2320.],\n        [2330.],\n        [2340.],\n        [2350.],\n        [2360.],\n        [2370.],\n        [2380.],\n        [2390.],\n        [2400.],\n        [2410.],\n        [2420.],\n        [2430.],\n        [2440.],\n        [2450.],\n        [2460.],\n        [2470.],\n        [2480.],\n        [2490.],\n        [2500.],\n        [2510.],\n        [2520.],\n        [2530.],\n        [2540.],\n        [2550.],\n        [2560.],\n        [2570.],\n        [2580.],\n        [2590.],\n        [2600.],\n        [2610.],\n        [2620.],\n        [2630.],\n        [2640.],\n        [2650.],\n        [2660.],\n        [2670.],\n        [2680.],\n        [2690.],\n        [2700.],\n        [2710.],\n        [2720.],\n        [2730.],\n        [2740.],\n        [2750.],\n        [2760.],\n        [2770.],\n        [2780.],\n        [2790.],\n        [2800.],\n        [2810.],\n        [2820.],\n        [2830.],\n        [2840.],\n        [2850.],\n        [2860.],\n        [2870.],\n        [2880.],\n        [2890.],\n        [2900.],\n        [2910.],\n        [2920.],\n        [2930.],\n        [2940.],\n        [2950.],\n        [2960.],\n        [2970.],\n        [2980.],\n        [2990.],\n        [3000.],\n        [3010.],\n        [3020.],\n        [3030.],\n        [3040.],\n        [3050.],\n        [3060.],\n        [3070.],\n        [3080.],\n        [3090.],\n        [3100.],\n        [3110.],\n        [3120.],\n        [3130.],\n        [3140.],\n        [3150.],\n        [3160.],\n        [3170.],\n        [3180.],\n        [3190.],\n        [3200.],\n        [3210.],\n        [3220.],\n        [3230.],\n        [3240.],\n        [3250.],\n        [3260.],\n        [3270.],\n        [3280.],\n        [3290.],\n        [3300.],\n        [3310.],\n        [3320.],\n        [3330.],\n        [3340.],\n        [3350.],\n        [3360.],\n        [3370.],\n        [3380.],\n        [3390.],\n        [3400.],\n        [3410.],\n        [3420.],\n        [3430.],\n        [3440.],\n        [3450.],\n        [3460.],\n        [3470.],\n        [3480.],\n        [3490.],\n        [3500.],\n        [3510.],\n        [3520.],\n        [3530.],\n        [3540.],\n        [3550.],\n        [3560.],\n        [3570.],\n        [3580.],\n        [3590.],\n        [3600.],\n        [3610.],\n        [3620.],\n        [3630.],\n        [3640.],\n        [3650.],\n        [3660.],\n        [3670.],\n        [3680.],\n        [3690.],\n        [3700.],\n        [3710.],\n        [3720.],\n        [3730.],\n        [3740.],\n        [3750.],\n        [3760.],\n        [3770.],\n        [3780.],\n        [3790.],\n        [3800.],\n        [3810.],\n        [3820.],\n        [3830.],\n        [3840.],\n        [3850.],\n        [3860.],\n        [3870.],\n        [3880.],\n        [3890.],\n        [3900.],\n        [3910.],\n        [3920.],\n        [3930.],\n        [3940.],\n        [3950.],\n        [3960.],\n        [3970.],\n        [3980.],\n        [3990.],\n        [4000.],\n        [4010.],\n        [4020.],\n        [4030.],\n        [4040.],\n        [4050.],\n        [4060.],\n        [4070.],\n        [4080.],\n        [4090.],\n        [4100.],\n        [4110.],\n        [4120.],\n        [4130.],\n        [4140.],\n        [4150.],\n        [4160.],\n        [4170.],\n        [4180.],\n        [4190.],\n        [4200.],\n        [4210.],\n        [4220.],\n        [4230.],\n        [4240.],\n        [4250.],\n        [4260.],\n        [4270.],\n        [4280.],\n        [4290.],\n        [4300.],\n        [4310.],\n        [4320.],\n        [4330.],\n        [4340.],\n        [4350.],\n        [4360.],\n        [4370.],\n        [4380.],\n        [4390.],\n        [4400.],\n        [4410.],\n        [4420.],\n        [4430.],\n        [4440.],\n        [4450.],\n        [4460.],\n        [4470.],\n        [4480.],\n        [4490.],\n        [4500.],\n        [4510.],\n        [4520.],\n        [4530.],\n        [4540.],\n        [4550.],\n        [4560.],\n        [4570.],\n        [4580.],\n        [4590.],\n        [4600.],\n        [4610.],\n        [4620.],\n        [4630.],\n        [4640.],\n        [4650.],\n        [4660.],\n        [4670.],\n        [4680.],\n        [4690.],\n        [4700.],\n        [4710.],\n        [4720.],\n        [4730.],\n        [4740.],\n        [4750.],\n        [4760.],\n        [4770.],\n        [4780.],\n        [4790.],\n        [4800.],\n        [4810.],\n        [4820.],\n        [4830.],\n        [4840.],\n        [4850.],\n        [4860.],\n        [4870.],\n        [4880.],\n        [4890.],\n        [4900.],\n        [4910.],\n        [4920.],\n        [4930.],\n        [4940.],\n        [4950.],\n        [4960.],\n        [4970.],\n        [4980.],\n        [4990.],\n        [5000.]])"
     },
     "execution_count": 38,
     "metadata": {},
     "output_type": "execute_result"
    }
   ],
   "source": [
    "cum_sum = cum_counts.sum(dim=1, keepdims=True)\n",
    "cum_sum"
   ],
   "metadata": {
    "collapsed": false
   }
  },
  {
   "cell_type": "code",
   "execution_count": 39,
   "outputs": [
    {
     "data": {
      "text/plain": "torch.Size([500, 1])"
     },
     "execution_count": 39,
     "metadata": {},
     "output_type": "execute_result"
    }
   ],
   "source": [
    "cum_sum.shape"
   ],
   "metadata": {
    "collapsed": false
   }
  },
  {
   "cell_type": "code",
   "execution_count": 40,
   "outputs": [
    {
     "data": {
      "text/plain": "tensor([[0.1000, 0.4000, 0.3000, 0.1000, 0.0000, 0.1000],\n        [0.1500, 0.3500, 0.1500, 0.1000, 0.1500, 0.1000],\n        [0.1333, 0.3333, 0.1333, 0.0667, 0.2000, 0.1333],\n        ...,\n        [0.1643, 0.1675, 0.1620, 0.1691, 0.1681, 0.1691],\n        [0.1639, 0.1673, 0.1625, 0.1689, 0.1679, 0.1693],\n        [0.1640, 0.1678, 0.1630, 0.1686, 0.1676, 0.1690]])"
     },
     "execution_count": 40,
     "metadata": {},
     "output_type": "execute_result"
    }
   ],
   "source": [
    "estimates = cum_counts / cum_sum\n",
    "estimates"
   ],
   "metadata": {
    "collapsed": false
   }
  },
  {
   "cell_type": "code",
   "execution_count": 42,
   "outputs": [
    {
     "data": {
      "text/plain": "<matplotlib.legend.Legend at 0x7f4a70fb90a0>"
     },
     "execution_count": 42,
     "metadata": {},
     "output_type": "execute_result"
    },
    {
     "data": {
      "text/plain": "<Figure size 600x450 with 1 Axes>",
      "image/svg+xml": "<?xml version=\"1.0\" encoding=\"utf-8\" standalone=\"no\"?>\n<!DOCTYPE svg PUBLIC \"-//W3C//DTD SVG 1.1//EN\"\n  \"http://www.w3.org/Graphics/SVG/1.1/DTD/svg11.dtd\">\n<svg xmlns:xlink=\"http://www.w3.org/1999/xlink\" width=\"392.14375pt\" height=\"294.23625pt\" viewBox=\"0 0 392.14375 294.23625\" xmlns=\"http://www.w3.org/2000/svg\" version=\"1.1\">\n <metadata>\n  <rdf:RDF xmlns:dc=\"http://purl.org/dc/elements/1.1/\" xmlns:cc=\"http://creativecommons.org/ns#\" xmlns:rdf=\"http://www.w3.org/1999/02/22-rdf-syntax-ns#\">\n   <cc:Work>\n    <dc:type rdf:resource=\"http://purl.org/dc/dcmitype/StillImage\"/>\n    <dc:date>2022-12-30T13:41:25.562104</dc:date>\n    <dc:format>image/svg+xml</dc:format>\n    <dc:creator>\n     <cc:Agent>\n      <dc:title>Matplotlib v3.5.1, https://matplotlib.org/</dc:title>\n     </cc:Agent>\n    </dc:creator>\n   </cc:Work>\n  </rdf:RDF>\n </metadata>\n <defs>\n  <style type=\"text/css\">*{stroke-linejoin: round; stroke-linecap: butt}</style>\n </defs>\n <g id=\"figure_1\">\n  <g id=\"patch_1\">\n   <path d=\"M 0 294.23625 \nL 392.14375 294.23625 \nL 392.14375 0 \nL 0 0 \nz\n\" style=\"fill: #ffffff\"/>\n  </g>\n  <g id=\"axes_1\">\n   <g id=\"patch_2\">\n    <path d=\"M 50.14375 256.68 \nL 384.94375 256.68 \nL 384.94375 7.2 \nL 50.14375 7.2 \nz\n\" style=\"fill: #ffffff\"/>\n   </g>\n   <g id=\"matplotlib.axis_1\">\n    <g id=\"xtick_1\">\n     <g id=\"line2d_1\">\n      <defs>\n       <path id=\"me22f24178a\" d=\"M 0 0 \nL 0 3.5 \n\" style=\"stroke: #000000; stroke-width: 0.8\"/>\n      </defs>\n      <g>\n       <use xlink:href=\"#me22f24178a\" x=\"65.361932\" y=\"256.68\" style=\"stroke: #000000; stroke-width: 0.8\"/>\n      </g>\n     </g>\n     <g id=\"text_1\">\n      <!-- 0 -->\n      <g transform=\"translate(62.180682 271.278438)scale(0.1 -0.1)\">\n       <defs>\n        <path id=\"DejaVuSans-30\" d=\"M 2034 4250 \nQ 1547 4250 1301 3770 \nQ 1056 3291 1056 2328 \nQ 1056 1369 1301 889 \nQ 1547 409 2034 409 \nQ 2525 409 2770 889 \nQ 3016 1369 3016 2328 \nQ 3016 3291 2770 3770 \nQ 2525 4250 2034 4250 \nz\nM 2034 4750 \nQ 2819 4750 3233 4129 \nQ 3647 3509 3647 2328 \nQ 3647 1150 3233 529 \nQ 2819 -91 2034 -91 \nQ 1250 -91 836 529 \nQ 422 1150 422 2328 \nQ 422 3509 836 4129 \nQ 1250 4750 2034 4750 \nz\n\" transform=\"scale(0.015625)\"/>\n       </defs>\n       <use xlink:href=\"#DejaVuSans-30\"/>\n      </g>\n     </g>\n    </g>\n    <g id=\"xtick_2\">\n     <g id=\"line2d_2\">\n      <g>\n       <use xlink:href=\"#me22f24178a\" x=\"126.356649\" y=\"256.68\" style=\"stroke: #000000; stroke-width: 0.8\"/>\n      </g>\n     </g>\n     <g id=\"text_2\">\n      <!-- 100 -->\n      <g transform=\"translate(116.812899 271.278438)scale(0.1 -0.1)\">\n       <defs>\n        <path id=\"DejaVuSans-31\" d=\"M 794 531 \nL 1825 531 \nL 1825 4091 \nL 703 3866 \nL 703 4441 \nL 1819 4666 \nL 2450 4666 \nL 2450 531 \nL 3481 531 \nL 3481 0 \nL 794 0 \nL 794 531 \nz\n\" transform=\"scale(0.015625)\"/>\n       </defs>\n       <use xlink:href=\"#DejaVuSans-31\"/>\n       <use xlink:href=\"#DejaVuSans-30\" x=\"63.623047\"/>\n       <use xlink:href=\"#DejaVuSans-30\" x=\"127.246094\"/>\n      </g>\n     </g>\n    </g>\n    <g id=\"xtick_3\">\n     <g id=\"line2d_3\">\n      <g>\n       <use xlink:href=\"#me22f24178a\" x=\"187.351365\" y=\"256.68\" style=\"stroke: #000000; stroke-width: 0.8\"/>\n      </g>\n     </g>\n     <g id=\"text_3\">\n      <!-- 200 -->\n      <g transform=\"translate(177.807615 271.278438)scale(0.1 -0.1)\">\n       <defs>\n        <path id=\"DejaVuSans-32\" d=\"M 1228 531 \nL 3431 531 \nL 3431 0 \nL 469 0 \nL 469 531 \nQ 828 903 1448 1529 \nQ 2069 2156 2228 2338 \nQ 2531 2678 2651 2914 \nQ 2772 3150 2772 3378 \nQ 2772 3750 2511 3984 \nQ 2250 4219 1831 4219 \nQ 1534 4219 1204 4116 \nQ 875 4013 500 3803 \nL 500 4441 \nQ 881 4594 1212 4672 \nQ 1544 4750 1819 4750 \nQ 2544 4750 2975 4387 \nQ 3406 4025 3406 3419 \nQ 3406 3131 3298 2873 \nQ 3191 2616 2906 2266 \nQ 2828 2175 2409 1742 \nQ 1991 1309 1228 531 \nz\n\" transform=\"scale(0.015625)\"/>\n       </defs>\n       <use xlink:href=\"#DejaVuSans-32\"/>\n       <use xlink:href=\"#DejaVuSans-30\" x=\"63.623047\"/>\n       <use xlink:href=\"#DejaVuSans-30\" x=\"127.246094\"/>\n      </g>\n     </g>\n    </g>\n    <g id=\"xtick_4\">\n     <g id=\"line2d_4\">\n      <g>\n       <use xlink:href=\"#me22f24178a\" x=\"248.346082\" y=\"256.68\" style=\"stroke: #000000; stroke-width: 0.8\"/>\n      </g>\n     </g>\n     <g id=\"text_4\">\n      <!-- 300 -->\n      <g transform=\"translate(238.802332 271.278438)scale(0.1 -0.1)\">\n       <defs>\n        <path id=\"DejaVuSans-33\" d=\"M 2597 2516 \nQ 3050 2419 3304 2112 \nQ 3559 1806 3559 1356 \nQ 3559 666 3084 287 \nQ 2609 -91 1734 -91 \nQ 1441 -91 1130 -33 \nQ 819 25 488 141 \nL 488 750 \nQ 750 597 1062 519 \nQ 1375 441 1716 441 \nQ 2309 441 2620 675 \nQ 2931 909 2931 1356 \nQ 2931 1769 2642 2001 \nQ 2353 2234 1838 2234 \nL 1294 2234 \nL 1294 2753 \nL 1863 2753 \nQ 2328 2753 2575 2939 \nQ 2822 3125 2822 3475 \nQ 2822 3834 2567 4026 \nQ 2313 4219 1838 4219 \nQ 1578 4219 1281 4162 \nQ 984 4106 628 3988 \nL 628 4550 \nQ 988 4650 1302 4700 \nQ 1616 4750 1894 4750 \nQ 2613 4750 3031 4423 \nQ 3450 4097 3450 3541 \nQ 3450 3153 3228 2886 \nQ 3006 2619 2597 2516 \nz\n\" transform=\"scale(0.015625)\"/>\n       </defs>\n       <use xlink:href=\"#DejaVuSans-33\"/>\n       <use xlink:href=\"#DejaVuSans-30\" x=\"63.623047\"/>\n       <use xlink:href=\"#DejaVuSans-30\" x=\"127.246094\"/>\n      </g>\n     </g>\n    </g>\n    <g id=\"xtick_5\">\n     <g id=\"line2d_5\">\n      <g>\n       <use xlink:href=\"#me22f24178a\" x=\"309.340799\" y=\"256.68\" style=\"stroke: #000000; stroke-width: 0.8\"/>\n      </g>\n     </g>\n     <g id=\"text_5\">\n      <!-- 400 -->\n      <g transform=\"translate(299.797049 271.278438)scale(0.1 -0.1)\">\n       <defs>\n        <path id=\"DejaVuSans-34\" d=\"M 2419 4116 \nL 825 1625 \nL 2419 1625 \nL 2419 4116 \nz\nM 2253 4666 \nL 3047 4666 \nL 3047 1625 \nL 3713 1625 \nL 3713 1100 \nL 3047 1100 \nL 3047 0 \nL 2419 0 \nL 2419 1100 \nL 313 1100 \nL 313 1709 \nL 2253 4666 \nz\n\" transform=\"scale(0.015625)\"/>\n       </defs>\n       <use xlink:href=\"#DejaVuSans-34\"/>\n       <use xlink:href=\"#DejaVuSans-30\" x=\"63.623047\"/>\n       <use xlink:href=\"#DejaVuSans-30\" x=\"127.246094\"/>\n      </g>\n     </g>\n    </g>\n    <g id=\"xtick_6\">\n     <g id=\"line2d_6\">\n      <g>\n       <use xlink:href=\"#me22f24178a\" x=\"370.335515\" y=\"256.68\" style=\"stroke: #000000; stroke-width: 0.8\"/>\n      </g>\n     </g>\n     <g id=\"text_6\">\n      <!-- 500 -->\n      <g transform=\"translate(360.791765 271.278438)scale(0.1 -0.1)\">\n       <defs>\n        <path id=\"DejaVuSans-35\" d=\"M 691 4666 \nL 3169 4666 \nL 3169 4134 \nL 1269 4134 \nL 1269 2991 \nQ 1406 3038 1543 3061 \nQ 1681 3084 1819 3084 \nQ 2600 3084 3056 2656 \nQ 3513 2228 3513 1497 \nQ 3513 744 3044 326 \nQ 2575 -91 1722 -91 \nQ 1428 -91 1123 -41 \nQ 819 9 494 109 \nL 494 744 \nQ 775 591 1075 516 \nQ 1375 441 1709 441 \nQ 2250 441 2565 725 \nQ 2881 1009 2881 1497 \nQ 2881 1984 2565 2268 \nQ 2250 2553 1709 2553 \nQ 1456 2553 1204 2497 \nQ 953 2441 691 2322 \nL 691 4666 \nz\n\" transform=\"scale(0.015625)\"/>\n       </defs>\n       <use xlink:href=\"#DejaVuSans-35\"/>\n       <use xlink:href=\"#DejaVuSans-30\" x=\"63.623047\"/>\n       <use xlink:href=\"#DejaVuSans-30\" x=\"127.246094\"/>\n      </g>\n     </g>\n    </g>\n    <g id=\"text_7\">\n     <!-- Groups of experiments -->\n     <g transform=\"translate(160.397656 284.956563)scale(0.1 -0.1)\">\n      <defs>\n       <path id=\"DejaVuSans-47\" d=\"M 3809 666 \nL 3809 1919 \nL 2778 1919 \nL 2778 2438 \nL 4434 2438 \nL 4434 434 \nQ 4069 175 3628 42 \nQ 3188 -91 2688 -91 \nQ 1594 -91 976 548 \nQ 359 1188 359 2328 \nQ 359 3472 976 4111 \nQ 1594 4750 2688 4750 \nQ 3144 4750 3555 4637 \nQ 3966 4525 4313 4306 \nL 4313 3634 \nQ 3963 3931 3569 4081 \nQ 3175 4231 2741 4231 \nQ 1884 4231 1454 3753 \nQ 1025 3275 1025 2328 \nQ 1025 1384 1454 906 \nQ 1884 428 2741 428 \nQ 3075 428 3337 486 \nQ 3600 544 3809 666 \nz\n\" transform=\"scale(0.015625)\"/>\n       <path id=\"DejaVuSans-72\" d=\"M 2631 2963 \nQ 2534 3019 2420 3045 \nQ 2306 3072 2169 3072 \nQ 1681 3072 1420 2755 \nQ 1159 2438 1159 1844 \nL 1159 0 \nL 581 0 \nL 581 3500 \nL 1159 3500 \nL 1159 2956 \nQ 1341 3275 1631 3429 \nQ 1922 3584 2338 3584 \nQ 2397 3584 2469 3576 \nQ 2541 3569 2628 3553 \nL 2631 2963 \nz\n\" transform=\"scale(0.015625)\"/>\n       <path id=\"DejaVuSans-6f\" d=\"M 1959 3097 \nQ 1497 3097 1228 2736 \nQ 959 2375 959 1747 \nQ 959 1119 1226 758 \nQ 1494 397 1959 397 \nQ 2419 397 2687 759 \nQ 2956 1122 2956 1747 \nQ 2956 2369 2687 2733 \nQ 2419 3097 1959 3097 \nz\nM 1959 3584 \nQ 2709 3584 3137 3096 \nQ 3566 2609 3566 1747 \nQ 3566 888 3137 398 \nQ 2709 -91 1959 -91 \nQ 1206 -91 779 398 \nQ 353 888 353 1747 \nQ 353 2609 779 3096 \nQ 1206 3584 1959 3584 \nz\n\" transform=\"scale(0.015625)\"/>\n       <path id=\"DejaVuSans-75\" d=\"M 544 1381 \nL 544 3500 \nL 1119 3500 \nL 1119 1403 \nQ 1119 906 1312 657 \nQ 1506 409 1894 409 \nQ 2359 409 2629 706 \nQ 2900 1003 2900 1516 \nL 2900 3500 \nL 3475 3500 \nL 3475 0 \nL 2900 0 \nL 2900 538 \nQ 2691 219 2414 64 \nQ 2138 -91 1772 -91 \nQ 1169 -91 856 284 \nQ 544 659 544 1381 \nz\nM 1991 3584 \nL 1991 3584 \nz\n\" transform=\"scale(0.015625)\"/>\n       <path id=\"DejaVuSans-70\" d=\"M 1159 525 \nL 1159 -1331 \nL 581 -1331 \nL 581 3500 \nL 1159 3500 \nL 1159 2969 \nQ 1341 3281 1617 3432 \nQ 1894 3584 2278 3584 \nQ 2916 3584 3314 3078 \nQ 3713 2572 3713 1747 \nQ 3713 922 3314 415 \nQ 2916 -91 2278 -91 \nQ 1894 -91 1617 61 \nQ 1341 213 1159 525 \nz\nM 3116 1747 \nQ 3116 2381 2855 2742 \nQ 2594 3103 2138 3103 \nQ 1681 3103 1420 2742 \nQ 1159 2381 1159 1747 \nQ 1159 1113 1420 752 \nQ 1681 391 2138 391 \nQ 2594 391 2855 752 \nQ 3116 1113 3116 1747 \nz\n\" transform=\"scale(0.015625)\"/>\n       <path id=\"DejaVuSans-73\" d=\"M 2834 3397 \nL 2834 2853 \nQ 2591 2978 2328 3040 \nQ 2066 3103 1784 3103 \nQ 1356 3103 1142 2972 \nQ 928 2841 928 2578 \nQ 928 2378 1081 2264 \nQ 1234 2150 1697 2047 \nL 1894 2003 \nQ 2506 1872 2764 1633 \nQ 3022 1394 3022 966 \nQ 3022 478 2636 193 \nQ 2250 -91 1575 -91 \nQ 1294 -91 989 -36 \nQ 684 19 347 128 \nL 347 722 \nQ 666 556 975 473 \nQ 1284 391 1588 391 \nQ 1994 391 2212 530 \nQ 2431 669 2431 922 \nQ 2431 1156 2273 1281 \nQ 2116 1406 1581 1522 \nL 1381 1569 \nQ 847 1681 609 1914 \nQ 372 2147 372 2553 \nQ 372 3047 722 3315 \nQ 1072 3584 1716 3584 \nQ 2034 3584 2315 3537 \nQ 2597 3491 2834 3397 \nz\n\" transform=\"scale(0.015625)\"/>\n       <path id=\"DejaVuSans-20\" transform=\"scale(0.015625)\"/>\n       <path id=\"DejaVuSans-66\" d=\"M 2375 4863 \nL 2375 4384 \nL 1825 4384 \nQ 1516 4384 1395 4259 \nQ 1275 4134 1275 3809 \nL 1275 3500 \nL 2222 3500 \nL 2222 3053 \nL 1275 3053 \nL 1275 0 \nL 697 0 \nL 697 3053 \nL 147 3053 \nL 147 3500 \nL 697 3500 \nL 697 3744 \nQ 697 4328 969 4595 \nQ 1241 4863 1831 4863 \nL 2375 4863 \nz\n\" transform=\"scale(0.015625)\"/>\n       <path id=\"DejaVuSans-65\" d=\"M 3597 1894 \nL 3597 1613 \nL 953 1613 \nQ 991 1019 1311 708 \nQ 1631 397 2203 397 \nQ 2534 397 2845 478 \nQ 3156 559 3463 722 \nL 3463 178 \nQ 3153 47 2828 -22 \nQ 2503 -91 2169 -91 \nQ 1331 -91 842 396 \nQ 353 884 353 1716 \nQ 353 2575 817 3079 \nQ 1281 3584 2069 3584 \nQ 2775 3584 3186 3129 \nQ 3597 2675 3597 1894 \nz\nM 3022 2063 \nQ 3016 2534 2758 2815 \nQ 2500 3097 2075 3097 \nQ 1594 3097 1305 2825 \nQ 1016 2553 972 2059 \nL 3022 2063 \nz\n\" transform=\"scale(0.015625)\"/>\n       <path id=\"DejaVuSans-78\" d=\"M 3513 3500 \nL 2247 1797 \nL 3578 0 \nL 2900 0 \nL 1881 1375 \nL 863 0 \nL 184 0 \nL 1544 1831 \nL 300 3500 \nL 978 3500 \nL 1906 2253 \nL 2834 3500 \nL 3513 3500 \nz\n\" transform=\"scale(0.015625)\"/>\n       <path id=\"DejaVuSans-69\" d=\"M 603 3500 \nL 1178 3500 \nL 1178 0 \nL 603 0 \nL 603 3500 \nz\nM 603 4863 \nL 1178 4863 \nL 1178 4134 \nL 603 4134 \nL 603 4863 \nz\n\" transform=\"scale(0.015625)\"/>\n       <path id=\"DejaVuSans-6d\" d=\"M 3328 2828 \nQ 3544 3216 3844 3400 \nQ 4144 3584 4550 3584 \nQ 5097 3584 5394 3201 \nQ 5691 2819 5691 2113 \nL 5691 0 \nL 5113 0 \nL 5113 2094 \nQ 5113 2597 4934 2840 \nQ 4756 3084 4391 3084 \nQ 3944 3084 3684 2787 \nQ 3425 2491 3425 1978 \nL 3425 0 \nL 2847 0 \nL 2847 2094 \nQ 2847 2600 2669 2842 \nQ 2491 3084 2119 3084 \nQ 1678 3084 1418 2786 \nQ 1159 2488 1159 1978 \nL 1159 0 \nL 581 0 \nL 581 3500 \nL 1159 3500 \nL 1159 2956 \nQ 1356 3278 1631 3431 \nQ 1906 3584 2284 3584 \nQ 2666 3584 2933 3390 \nQ 3200 3197 3328 2828 \nz\n\" transform=\"scale(0.015625)\"/>\n       <path id=\"DejaVuSans-6e\" d=\"M 3513 2113 \nL 3513 0 \nL 2938 0 \nL 2938 2094 \nQ 2938 2591 2744 2837 \nQ 2550 3084 2163 3084 \nQ 1697 3084 1428 2787 \nQ 1159 2491 1159 1978 \nL 1159 0 \nL 581 0 \nL 581 3500 \nL 1159 3500 \nL 1159 2956 \nQ 1366 3272 1645 3428 \nQ 1925 3584 2291 3584 \nQ 2894 3584 3203 3211 \nQ 3513 2838 3513 2113 \nz\n\" transform=\"scale(0.015625)\"/>\n       <path id=\"DejaVuSans-74\" d=\"M 1172 4494 \nL 1172 3500 \nL 2356 3500 \nL 2356 3053 \nL 1172 3053 \nL 1172 1153 \nQ 1172 725 1289 603 \nQ 1406 481 1766 481 \nL 2356 481 \nL 2356 0 \nL 1766 0 \nQ 1100 0 847 248 \nQ 594 497 594 1153 \nL 594 3053 \nL 172 3053 \nL 172 3500 \nL 594 3500 \nL 594 4494 \nL 1172 4494 \nz\n\" transform=\"scale(0.015625)\"/>\n      </defs>\n      <use xlink:href=\"#DejaVuSans-47\"/>\n      <use xlink:href=\"#DejaVuSans-72\" x=\"77.490234\"/>\n      <use xlink:href=\"#DejaVuSans-6f\" x=\"116.353516\"/>\n      <use xlink:href=\"#DejaVuSans-75\" x=\"177.535156\"/>\n      <use xlink:href=\"#DejaVuSans-70\" x=\"240.914062\"/>\n      <use xlink:href=\"#DejaVuSans-73\" x=\"304.390625\"/>\n      <use xlink:href=\"#DejaVuSans-20\" x=\"356.490234\"/>\n      <use xlink:href=\"#DejaVuSans-6f\" x=\"388.277344\"/>\n      <use xlink:href=\"#DejaVuSans-66\" x=\"449.458984\"/>\n      <use xlink:href=\"#DejaVuSans-20\" x=\"484.664062\"/>\n      <use xlink:href=\"#DejaVuSans-65\" x=\"516.451172\"/>\n      <use xlink:href=\"#DejaVuSans-78\" x=\"576.224609\"/>\n      <use xlink:href=\"#DejaVuSans-70\" x=\"635.404297\"/>\n      <use xlink:href=\"#DejaVuSans-65\" x=\"698.880859\"/>\n      <use xlink:href=\"#DejaVuSans-72\" x=\"760.404297\"/>\n      <use xlink:href=\"#DejaVuSans-69\" x=\"801.517578\"/>\n      <use xlink:href=\"#DejaVuSans-6d\" x=\"829.300781\"/>\n      <use xlink:href=\"#DejaVuSans-65\" x=\"926.712891\"/>\n      <use xlink:href=\"#DejaVuSans-6e\" x=\"988.236328\"/>\n      <use xlink:href=\"#DejaVuSans-74\" x=\"1051.615234\"/>\n      <use xlink:href=\"#DejaVuSans-73\" x=\"1090.824219\"/>\n     </g>\n    </g>\n   </g>\n   <g id=\"matplotlib.axis_2\">\n    <g id=\"ytick_1\">\n     <g id=\"line2d_7\">\n      <defs>\n       <path id=\"m57759d5a0a\" d=\"M 0 0 \nL -3.5 0 \n\" style=\"stroke: #000000; stroke-width: 0.8\"/>\n      </defs>\n      <g>\n       <use xlink:href=\"#m57759d5a0a\" x=\"50.14375\" y=\"245.34\" style=\"stroke: #000000; stroke-width: 0.8\"/>\n      </g>\n     </g>\n     <g id=\"text_8\">\n      <!-- 0.00 -->\n      <g transform=\"translate(20.878125 249.139219)scale(0.1 -0.1)\">\n       <defs>\n        <path id=\"DejaVuSans-2e\" d=\"M 684 794 \nL 1344 794 \nL 1344 0 \nL 684 0 \nL 684 794 \nz\n\" transform=\"scale(0.015625)\"/>\n       </defs>\n       <use xlink:href=\"#DejaVuSans-30\"/>\n       <use xlink:href=\"#DejaVuSans-2e\" x=\"63.623047\"/>\n       <use xlink:href=\"#DejaVuSans-30\" x=\"95.410156\"/>\n       <use xlink:href=\"#DejaVuSans-30\" x=\"159.033203\"/>\n      </g>\n     </g>\n    </g>\n    <g id=\"ytick_2\">\n     <g id=\"line2d_8\">\n      <g>\n       <use xlink:href=\"#m57759d5a0a\" x=\"50.14375\" y=\"216.99\" style=\"stroke: #000000; stroke-width: 0.8\"/>\n      </g>\n     </g>\n     <g id=\"text_9\">\n      <!-- 0.05 -->\n      <g transform=\"translate(20.878125 220.789219)scale(0.1 -0.1)\">\n       <use xlink:href=\"#DejaVuSans-30\"/>\n       <use xlink:href=\"#DejaVuSans-2e\" x=\"63.623047\"/>\n       <use xlink:href=\"#DejaVuSans-30\" x=\"95.410156\"/>\n       <use xlink:href=\"#DejaVuSans-35\" x=\"159.033203\"/>\n      </g>\n     </g>\n    </g>\n    <g id=\"ytick_3\">\n     <g id=\"line2d_9\">\n      <g>\n       <use xlink:href=\"#m57759d5a0a\" x=\"50.14375\" y=\"188.640001\" style=\"stroke: #000000; stroke-width: 0.8\"/>\n      </g>\n     </g>\n     <g id=\"text_10\">\n      <!-- 0.10 -->\n      <g transform=\"translate(20.878125 192.43922)scale(0.1 -0.1)\">\n       <use xlink:href=\"#DejaVuSans-30\"/>\n       <use xlink:href=\"#DejaVuSans-2e\" x=\"63.623047\"/>\n       <use xlink:href=\"#DejaVuSans-31\" x=\"95.410156\"/>\n       <use xlink:href=\"#DejaVuSans-30\" x=\"159.033203\"/>\n      </g>\n     </g>\n    </g>\n    <g id=\"ytick_4\">\n     <g id=\"line2d_10\">\n      <g>\n       <use xlink:href=\"#m57759d5a0a\" x=\"50.14375\" y=\"160.290001\" style=\"stroke: #000000; stroke-width: 0.8\"/>\n      </g>\n     </g>\n     <g id=\"text_11\">\n      <!-- 0.15 -->\n      <g transform=\"translate(20.878125 164.08922)scale(0.1 -0.1)\">\n       <use xlink:href=\"#DejaVuSans-30\"/>\n       <use xlink:href=\"#DejaVuSans-2e\" x=\"63.623047\"/>\n       <use xlink:href=\"#DejaVuSans-31\" x=\"95.410156\"/>\n       <use xlink:href=\"#DejaVuSans-35\" x=\"159.033203\"/>\n      </g>\n     </g>\n    </g>\n    <g id=\"ytick_5\">\n     <g id=\"line2d_11\">\n      <g>\n       <use xlink:href=\"#m57759d5a0a\" x=\"50.14375\" y=\"131.940002\" style=\"stroke: #000000; stroke-width: 0.8\"/>\n      </g>\n     </g>\n     <g id=\"text_12\">\n      <!-- 0.20 -->\n      <g transform=\"translate(20.878125 135.73922)scale(0.1 -0.1)\">\n       <use xlink:href=\"#DejaVuSans-30\"/>\n       <use xlink:href=\"#DejaVuSans-2e\" x=\"63.623047\"/>\n       <use xlink:href=\"#DejaVuSans-32\" x=\"95.410156\"/>\n       <use xlink:href=\"#DejaVuSans-30\" x=\"159.033203\"/>\n      </g>\n     </g>\n    </g>\n    <g id=\"ytick_6\">\n     <g id=\"line2d_12\">\n      <g>\n       <use xlink:href=\"#m57759d5a0a\" x=\"50.14375\" y=\"103.590002\" style=\"stroke: #000000; stroke-width: 0.8\"/>\n      </g>\n     </g>\n     <g id=\"text_13\">\n      <!-- 0.25 -->\n      <g transform=\"translate(20.878125 107.389221)scale(0.1 -0.1)\">\n       <use xlink:href=\"#DejaVuSans-30\"/>\n       <use xlink:href=\"#DejaVuSans-2e\" x=\"63.623047\"/>\n       <use xlink:href=\"#DejaVuSans-32\" x=\"95.410156\"/>\n       <use xlink:href=\"#DejaVuSans-35\" x=\"159.033203\"/>\n      </g>\n     </g>\n    </g>\n    <g id=\"ytick_7\">\n     <g id=\"line2d_13\">\n      <g>\n       <use xlink:href=\"#m57759d5a0a\" x=\"50.14375\" y=\"75.240003\" style=\"stroke: #000000; stroke-width: 0.8\"/>\n      </g>\n     </g>\n     <g id=\"text_14\">\n      <!-- 0.30 -->\n      <g transform=\"translate(20.878125 79.039221)scale(0.1 -0.1)\">\n       <use xlink:href=\"#DejaVuSans-30\"/>\n       <use xlink:href=\"#DejaVuSans-2e\" x=\"63.623047\"/>\n       <use xlink:href=\"#DejaVuSans-33\" x=\"95.410156\"/>\n       <use xlink:href=\"#DejaVuSans-30\" x=\"159.033203\"/>\n      </g>\n     </g>\n    </g>\n    <g id=\"ytick_8\">\n     <g id=\"line2d_14\">\n      <g>\n       <use xlink:href=\"#m57759d5a0a\" x=\"50.14375\" y=\"46.890003\" style=\"stroke: #000000; stroke-width: 0.8\"/>\n      </g>\n     </g>\n     <g id=\"text_15\">\n      <!-- 0.35 -->\n      <g transform=\"translate(20.878125 50.689222)scale(0.1 -0.1)\">\n       <use xlink:href=\"#DejaVuSans-30\"/>\n       <use xlink:href=\"#DejaVuSans-2e\" x=\"63.623047\"/>\n       <use xlink:href=\"#DejaVuSans-33\" x=\"95.410156\"/>\n       <use xlink:href=\"#DejaVuSans-35\" x=\"159.033203\"/>\n      </g>\n     </g>\n    </g>\n    <g id=\"ytick_9\">\n     <g id=\"line2d_15\">\n      <g>\n       <use xlink:href=\"#m57759d5a0a\" x=\"50.14375\" y=\"18.540003\" style=\"stroke: #000000; stroke-width: 0.8\"/>\n      </g>\n     </g>\n     <g id=\"text_16\">\n      <!-- 0.40 -->\n      <g transform=\"translate(20.878125 22.339222)scale(0.1 -0.1)\">\n       <use xlink:href=\"#DejaVuSans-30\"/>\n       <use xlink:href=\"#DejaVuSans-2e\" x=\"63.623047\"/>\n       <use xlink:href=\"#DejaVuSans-34\" x=\"95.410156\"/>\n       <use xlink:href=\"#DejaVuSans-30\" x=\"159.033203\"/>\n      </g>\n     </g>\n    </g>\n    <g id=\"text_17\">\n     <!-- Estimated probability -->\n     <g transform=\"translate(14.798438 185.463438)rotate(-90)scale(0.1 -0.1)\">\n      <defs>\n       <path id=\"DejaVuSans-45\" d=\"M 628 4666 \nL 3578 4666 \nL 3578 4134 \nL 1259 4134 \nL 1259 2753 \nL 3481 2753 \nL 3481 2222 \nL 1259 2222 \nL 1259 531 \nL 3634 531 \nL 3634 0 \nL 628 0 \nL 628 4666 \nz\n\" transform=\"scale(0.015625)\"/>\n       <path id=\"DejaVuSans-61\" d=\"M 2194 1759 \nQ 1497 1759 1228 1600 \nQ 959 1441 959 1056 \nQ 959 750 1161 570 \nQ 1363 391 1709 391 \nQ 2188 391 2477 730 \nQ 2766 1069 2766 1631 \nL 2766 1759 \nL 2194 1759 \nz\nM 3341 1997 \nL 3341 0 \nL 2766 0 \nL 2766 531 \nQ 2569 213 2275 61 \nQ 1981 -91 1556 -91 \nQ 1019 -91 701 211 \nQ 384 513 384 1019 \nQ 384 1609 779 1909 \nQ 1175 2209 1959 2209 \nL 2766 2209 \nL 2766 2266 \nQ 2766 2663 2505 2880 \nQ 2244 3097 1772 3097 \nQ 1472 3097 1187 3025 \nQ 903 2953 641 2809 \nL 641 3341 \nQ 956 3463 1253 3523 \nQ 1550 3584 1831 3584 \nQ 2591 3584 2966 3190 \nQ 3341 2797 3341 1997 \nz\n\" transform=\"scale(0.015625)\"/>\n       <path id=\"DejaVuSans-64\" d=\"M 2906 2969 \nL 2906 4863 \nL 3481 4863 \nL 3481 0 \nL 2906 0 \nL 2906 525 \nQ 2725 213 2448 61 \nQ 2172 -91 1784 -91 \nQ 1150 -91 751 415 \nQ 353 922 353 1747 \nQ 353 2572 751 3078 \nQ 1150 3584 1784 3584 \nQ 2172 3584 2448 3432 \nQ 2725 3281 2906 2969 \nz\nM 947 1747 \nQ 947 1113 1208 752 \nQ 1469 391 1925 391 \nQ 2381 391 2643 752 \nQ 2906 1113 2906 1747 \nQ 2906 2381 2643 2742 \nQ 2381 3103 1925 3103 \nQ 1469 3103 1208 2742 \nQ 947 2381 947 1747 \nz\n\" transform=\"scale(0.015625)\"/>\n       <path id=\"DejaVuSans-62\" d=\"M 3116 1747 \nQ 3116 2381 2855 2742 \nQ 2594 3103 2138 3103 \nQ 1681 3103 1420 2742 \nQ 1159 2381 1159 1747 \nQ 1159 1113 1420 752 \nQ 1681 391 2138 391 \nQ 2594 391 2855 752 \nQ 3116 1113 3116 1747 \nz\nM 1159 2969 \nQ 1341 3281 1617 3432 \nQ 1894 3584 2278 3584 \nQ 2916 3584 3314 3078 \nQ 3713 2572 3713 1747 \nQ 3713 922 3314 415 \nQ 2916 -91 2278 -91 \nQ 1894 -91 1617 61 \nQ 1341 213 1159 525 \nL 1159 0 \nL 581 0 \nL 581 4863 \nL 1159 4863 \nL 1159 2969 \nz\n\" transform=\"scale(0.015625)\"/>\n       <path id=\"DejaVuSans-6c\" d=\"M 603 4863 \nL 1178 4863 \nL 1178 0 \nL 603 0 \nL 603 4863 \nz\n\" transform=\"scale(0.015625)\"/>\n       <path id=\"DejaVuSans-79\" d=\"M 2059 -325 \nQ 1816 -950 1584 -1140 \nQ 1353 -1331 966 -1331 \nL 506 -1331 \nL 506 -850 \nL 844 -850 \nQ 1081 -850 1212 -737 \nQ 1344 -625 1503 -206 \nL 1606 56 \nL 191 3500 \nL 800 3500 \nL 1894 763 \nL 2988 3500 \nL 3597 3500 \nL 2059 -325 \nz\n\" transform=\"scale(0.015625)\"/>\n      </defs>\n      <use xlink:href=\"#DejaVuSans-45\"/>\n      <use xlink:href=\"#DejaVuSans-73\" x=\"63.183594\"/>\n      <use xlink:href=\"#DejaVuSans-74\" x=\"115.283203\"/>\n      <use xlink:href=\"#DejaVuSans-69\" x=\"154.492188\"/>\n      <use xlink:href=\"#DejaVuSans-6d\" x=\"182.275391\"/>\n      <use xlink:href=\"#DejaVuSans-61\" x=\"279.6875\"/>\n      <use xlink:href=\"#DejaVuSans-74\" x=\"340.966797\"/>\n      <use xlink:href=\"#DejaVuSans-65\" x=\"380.175781\"/>\n      <use xlink:href=\"#DejaVuSans-64\" x=\"441.699219\"/>\n      <use xlink:href=\"#DejaVuSans-20\" x=\"505.175781\"/>\n      <use xlink:href=\"#DejaVuSans-70\" x=\"536.962891\"/>\n      <use xlink:href=\"#DejaVuSans-72\" x=\"600.439453\"/>\n      <use xlink:href=\"#DejaVuSans-6f\" x=\"639.302734\"/>\n      <use xlink:href=\"#DejaVuSans-62\" x=\"700.484375\"/>\n      <use xlink:href=\"#DejaVuSans-61\" x=\"763.960938\"/>\n      <use xlink:href=\"#DejaVuSans-62\" x=\"825.240234\"/>\n      <use xlink:href=\"#DejaVuSans-69\" x=\"888.716797\"/>\n      <use xlink:href=\"#DejaVuSans-6c\" x=\"916.5\"/>\n      <use xlink:href=\"#DejaVuSans-69\" x=\"944.283203\"/>\n      <use xlink:href=\"#DejaVuSans-74\" x=\"972.066406\"/>\n      <use xlink:href=\"#DejaVuSans-79\" x=\"1011.275391\"/>\n     </g>\n    </g>\n   </g>\n   <g id=\"line2d_16\">\n    <path d=\"M 65.361932 188.64 \nL 65.971879 160.289998 \nL 66.581826 169.739997 \nL 67.191773 174.465001 \nL 67.80172 188.64 \nL 68.411668 169.739997 \nL 69.021615 172.439997 \nL 69.631562 167.377499 \nL 70.241509 144.539999 \nL 70.851456 137.610003 \nL 71.461403 142.249089 \nL 72.071351 150.839999 \nL 72.681298 153.747691 \nL 73.291245 148.139999 \nL 74.511139 146.115003 \nL 75.121086 148.616469 \nL 76.340981 158.797895 \nL 77.560875 156.239998 \nL 78.780769 159.057396 \nL 79.390717 153.202505 \nL 80.000664 156.887999 \nL 81.220558 155.040001 \nL 81.830505 156.239998 \nL 82.440452 155.402073 \nL 83.660347 146.572261 \nL 84.270294 144.34313 \nL 84.880241 140.530909 \nL 85.490188 141.945882 \nL 86.100135 141.660003 \nL 87.32003 144.199464 \nL 88.539924 149.386153 \nL 90.369766 152.189998 \nL 91.58966 153.846822 \nL 92.809554 150.429134 \nL 93.419502 150.035742 \nL 94.029449 148.477501 \nL 95.249343 147.815998 \nL 95.85929 148.616469 \nL 96.469237 148.295772 \nL 97.079185 146.917358 \nL 97.689132 147.689999 \nL 98.299079 147.403638 \nL 98.909026 148.139999 \nL 100.12892 145.626206 \nL 100.738868 145.394239 \nL 101.348815 144.225005 \nL 101.958762 144.953119 \nL 103.788603 144.34313 \nL 104.398551 142.407693 \nL 105.008498 142.249089 \nL 105.618445 143.787763 \nL 106.228392 144.447356 \nL 106.838339 145.909567 \nL 107.448286 145.710002 \nL 108.058234 146.314652 \nL 108.668181 146.115003 \nL 109.278128 147.474246 \nL 109.888075 144.965674 \nL 111.107969 144.6229 \nL 111.717917 145.930909 \nL 112.327864 146.47846 \nL 112.937811 145.576712 \nL 113.547758 145.406254 \nL 114.157705 145.94 \nL 114.767652 147.152197 \nL 115.3776 146.968914 \nL 115.987547 148.139999 \nL 117.817388 149.536552 \nL 118.427335 149.336591 \nL 119.037283 149.778201 \nL 119.64723 150.839999 \nL 120.257177 151.255383 \nL 120.867124 149.812825 \nL 122.087018 150.638939 \nL 122.696966 151.635789 \nL 123.306913 150.839999 \nL 123.91686 151.22969 \nL 125.136754 150.839999 \nL 126.356649 151.588517 \nL 126.966596 152.507646 \nL 128.796437 153.539998 \nL 129.406384 153.336226 \nL 130.016332 152.606355 \nL 130.626279 153.465005 \nL 131.846173 153.073641 \nL 132.45612 153.39406 \nL 133.066067 154.215003 \nL 133.676015 154.01788 \nL 134.285962 154.818951 \nL 135.505856 153.446899 \nL 136.115803 154.232306 \nL 136.72575 154.043387 \nL 137.335698 154.810587 \nL 137.945645 154.620003 \nL 139.165539 155.177702 \nL 139.775486 154.527808 \nL 141.605328 153.989998 \nL 142.215275 154.262832 \nL 142.825222 153.645467 \nL 143.435169 153.477214 \nL 144.655064 154.014044 \nL 145.265011 153.846822 \nL 146.484905 154.366121 \nL 147.094852 153.779999 \nL 147.704799 154.036324 \nL 149.534641 153.559423 \nL 150.144588 153 \nL 150.754535 153.252768 \nL 151.364482 153.901267 \nL 151.97443 153.747691 \nL 152.584377 152.80875 \nL 153.194324 152.66483 \nL 154.414218 153.154287 \nL 155.024165 152.62784 \nL 155.634113 153.250072 \nL 156.24406 153.108003 \nL 156.854007 152.592321 \nL 158.073901 153.063528 \nL 158.683848 152.926367 \nL 159.293796 153.522585 \nL 159.903743 153.384233 \nL 161.733584 155.119244 \nL 162.953479 153.422609 \nL 164.173373 153.854722 \nL 164.78332 154.412565 \nL 165.393267 153.932731 \nL 166.003214 154.483375 \nL 167.223109 154.215003 \nL 167.833056 153.747691 \nL 168.443003 153.952941 \nL 169.05295 153.824213 \nL 169.662897 152.708021 \nL 170.882792 152.469313 \nL 171.492739 152.675999 \nL 172.102686 153.202505 \nL 172.712633 153.402711 \nL 173.32258 152.963594 \nL 173.932528 152.846145 \nL 174.542475 152.415003 \nL 176.372316 153.008855 \nL 176.982263 152.586195 \nL 177.592211 152.474593 \nL 178.202158 152.669038 \nL 178.812105 152.254971 \nL 179.422052 152.146917 \nL 180.031999 152.639998 \nL 180.641946 152.531058 \nL 181.251894 152.720103 \nL 182.471788 153.679896 \nL 183.081735 153.860104 \nL 183.691682 154.329232 \nL 184.911577 154.677566 \nL 185.521524 155.135457 \nL 186.741418 155.470501 \nL 187.351365 155.353432 \nL 187.961312 154.95683 \nL 188.57126 155.402073 \nL 189.181207 155.287057 \nL 190.401101 156.161364 \nL 191.011048 155.496524 \nL 191.620995 155.110677 \nL 192.230943 155.542393 \nL 192.84089 155.7 \nL 193.450837 156.124839 \nL 194.060784 156.010753 \nL 194.670731 155.631546 \nL 195.280678 155.52084 \nL 195.890626 155.147446 \nL 197.11052 154.933553 \nL 197.720467 155.088169 \nL 198.330414 154.723562 \nL 198.940361 154.87773 \nL 199.550309 154.773935 \nL 200.160256 154.926489 \nL 203.819939 154.321578 \nL 204.429886 153.976243 \nL 205.039833 153.387393 \nL 205.64978 153.294548 \nL 206.259727 152.713707 \nL 206.869675 152.624554 \nL 207.479622 152.293845 \nL 208.699516 152.121359 \nL 209.309463 151.079239 \nL 209.91941 151.475293 \nL 211.139305 151.784998 \nL 211.749252 151.702654 \nL 212.359199 151.152399 \nL 213.579093 150.994919 \nL 214.189041 150.685712 \nL 214.798988 150.839999 \nL 215.408935 150.763485 \nL 216.018882 150.916208 \nL 216.628829 150.384583 \nL 220.288512 151.28471 \nL 220.898459 150.766172 \nL 221.508407 151.134166 \nL 222.118354 151.279539 \nL 222.728301 151.6427 \nL 223.338248 151.348846 \nL 223.948195 151.708966 \nL 225.778037 150.839999 \nL 226.387984 150.982642 \nL 226.997931 150.911054 \nL 227.607878 151.264719 \nL 228.217825 150.769475 \nL 228.827773 151.121045 \nL 230.657614 150.284116 \nL 231.267561 150.424614 \nL 231.877508 150.771021 \nL 232.487456 150.702551 \nL 234.317297 151.72381 \nL 234.927244 151.652907 \nL 235.537191 151.784998 \nL 236.757086 151.242127 \nL 237.367033 151.374277 \nL 237.97698 151.305849 \nL 239.196874 151.566922 \nL 239.806822 151.498536 \nL 240.416769 151.627501 \nL 241.636663 151.100691 \nL 242.24661 151.034848 \nL 242.856557 151.163627 \nL 244.076452 151.032855 \nL 244.686399 150.77593 \nL 245.296346 151.095411 \nL 245.906293 151.030911 \nL 246.51624 150.39604 \nL 247.126188 150.713577 \nL 247.736135 150.651004 \nL 248.346082 150.777214 \nL 248.956029 150.714836 \nL 249.565976 150.465744 \nL 250.175923 150.777831 \nL 250.785871 150.530167 \nL 252.005765 150.409059 \nL 252.615712 150.165003 \nL 253.835606 150.779031 \nL 254.445554 150.71846 \nL 256.275395 151.622482 \nL 256.885342 151.380005 \nL 257.495289 150.959619 \nL 258.715184 151.196604 \nL 259.325131 151.491726 \nL 259.935078 151.25344 \nL 261.154972 151.485651 \nL 261.76492 151.249596 \nL 262.374867 151.190005 \nL 264.204708 152.053759 \nL 264.814655 152.165302 \nL 265.424603 152.448511 \nL 267.254444 152.263192 \nL 267.864391 152.372437 \nL 269.084286 151.911943 \nL 269.694233 152.189998 \nL 271.524074 151.509029 \nL 272.134021 151.784998 \nL 273.353916 152.000531 \nL 273.963863 152.272655 \nL 275.183757 152.154783 \nL 275.793704 152.260235 \nL 276.403652 152.528472 \nL 277.013599 152.306383 \nL 277.623546 152.248026 \nL 278.233493 152.351999 \nL 278.84344 152.293845 \nL 279.453387 152.558187 \nL 280.673282 152.121359 \nL 281.283229 152.064506 \nL 281.893176 152.326517 \nL 282.503123 151.79294 \nL 283.11307 151.737489 \nL 283.723018 151.998216 \nL 284.332965 151.784998 \nL 285.552859 151.988618 \nL 286.772753 151.87846 \nL 287.382701 151.97918 \nL 287.992648 151.769511 \nL 288.602595 151.869977 \nL 289.212542 151.507661 \nL 291.042384 151.807928 \nL 291.652331 152.059352 \nL 292.872225 151.951763 \nL 294.092119 152.146917 \nL 295.312014 152.040004 \nL 295.921961 152.286173 \nL 296.531908 152.381841 \nL 297.141855 152.32819 \nL 297.751802 152.423249 \nL 298.36175 152.221724 \nL 298.971697 152.316564 \nL 300.191591 152.210986 \nL 300.801538 152.305116 \nL 301.411485 152.106497 \nL 302.021433 152.346169 \nL 302.63138 152.293845 \nL 303.241327 151.951763 \nL 303.851274 151.900715 \nL 304.461221 151.994202 \nL 305.071168 151.943297 \nL 305.681116 151.462028 \nL 306.291063 151.555913 \nL 306.90101 151.363682 \nL 307.510957 151.314872 \nL 308.120904 151.408419 \nL 308.730851 151.359753 \nL 309.950746 151.545225 \nL 310.560693 151.777968 \nL 312.390534 152.050346 \nL 313.000482 151.861621 \nL 313.610429 151.951763 \nL 314.220376 151.902835 \nL 315.44027 152.081607 \nL 316.050217 152.307963 \nL 316.660165 152.258646 \nL 319.099953 152.60763 \nL 319.7099 152.829475 \nL 320.319848 152.644299 \nL 321.539742 153.084659 \nL 322.149689 153.034548 \nL 322.759636 153.252768 \nL 323.369583 153.336226 \nL 323.979531 153.285888 \nL 324.589478 153.368873 \nL 325.199425 153.185903 \nL 326.419319 153.086855 \nL 327.029266 152.905811 \nL 327.639214 152.85717 \nL 328.859108 153.022449 \nL 329.469055 153.23516 \nL 330.079002 153.316557 \nL 330.688949 153.267528 \nL 331.298897 153.47822 \nL 333.128738 153.717959 \nL 333.738685 153.668575 \nL 335.568527 153.904867 \nL 336.178474 154.110337 \nL 336.788421 154.187763 \nL 337.398368 153.884293 \nL 338.618263 153.533991 \nL 339.22821 153.738 \nL 339.838157 153.438231 \nL 340.448104 153.265221 \nL 342.277946 153.124614 \nL 342.887893 153.32684 \nL 343.49784 153.031903 \nL 344.107787 153.109651 \nL 344.717734 153.310592 \nL 345.327681 153.264131 \nL 347.157523 153.493352 \nL 348.987365 153.354594 \nL 349.597312 153.06591 \nL 350.817206 153.217611 \nL 351.427153 153.172342 \nL 352.0371 153.006878 \nL 352.647048 153.202505 \nL 353.256995 153.037674 \nL 353.866942 152.993165 \nL 354.476889 152.829475 \nL 355.086836 152.30912 \nL 355.696783 152.504156 \nL 356.306731 152.342511 \nL 356.916678 152.418289 \nL 357.526625 152.021247 \nL 358.136572 151.861621 \nL 358.746519 151.820289 \nL 359.966414 151.972438 \nL 360.576361 151.814231 \nL 361.796255 151.732606 \nL 363.016149 151.883563 \nL 363.626097 152.07429 \nL 364.845991 151.992437 \nL 366.065885 152.255588 \nL 366.675832 152.214543 \nL 367.895727 152.361132 \nL 368.505674 152.206263 \nL 369.115621 152.392909 \nL 369.725568 152.351999 \nL 369.725568 152.351999 \n\" clip-path=\"url(#p5ef8dad234)\" style=\"fill: none; stroke: #1f77b4; stroke-width: 1.5; stroke-linecap: square\"/>\n   </g>\n   <g id=\"line2d_17\">\n    <path d=\"M 65.361932 18.54 \nL 65.971879 46.890006 \nL 66.581826 56.339997 \nL 67.191773 61.06501 \nL 67.80172 86.580002 \nL 68.411668 84.690004 \nL 69.021615 75.239996 \nL 70.241509 75.239996 \nL 71.461403 95.858191 \nL 72.071351 94.139994 \nL 73.901192 116.819998 \nL 75.121086 118.598825 \nL 75.731034 125.64 \nL 76.340981 128.955794 \nL 76.950928 126.270005 \nL 78.170822 131.94 \nL 79.390717 127.215005 \nL 80.000664 125.136003 \nL 80.610611 127.578462 \nL 81.830505 123.840001 \nL 83.0504 128.160004 \nL 83.660347 126.452909 \nL 84.270294 126.62438 \nL 85.490188 130.272353 \nL 86.100135 130.320005 \nL 87.929977 134.924214 \nL 88.539924 134.847692 \nL 89.149871 136.192504 \nL 89.759819 136.088785 \nL 91.58966 139.671819 \nL 92.809554 144.266092 \nL 93.419502 145.210213 \nL 94.029449 142.571248 \nL 95.249343 144.414 \nL 95.85929 144.169411 \nL 96.469237 145.024614 \nL 97.689132 148.740002 \nL 98.299079 148.434546 \nL 98.909026 149.152505 \nL 99.518973 147.855793 \nL 100.12892 148.558966 \nL 101.348815 151.784998 \nL 101.958762 152.389183 \nL 102.568709 151.144837 \nL 103.178656 151.739999 \nL 103.788603 151.430623 \nL 105.008498 152.558187 \nL 105.618445 147.172838 \nL 106.228392 146.115003 \nL 106.838339 145.909567 \nL 107.448286 144.900001 \nL 108.058234 145.516057 \nL 108.668181 145.327501 \nL 109.888075 146.498113 \nL 112.327864 145.751537 \nL 112.937811 146.294434 \nL 113.547758 147.532502 \nL 114.157705 148.040005 \nL 114.767652 146.460735 \nL 115.3776 146.285782 \nL 115.987547 145.439999 \nL 116.597494 145.948238 \nL 117.207441 145.126044 \nL 119.037283 146.592809 \nL 120.257177 145.024614 \nL 120.867124 146.115003 \nL 121.477071 146.572261 \nL 122.696966 143.87684 \nL 123.306913 144.34313 \nL 123.91686 144.215263 \nL 125.136754 145.112729 \nL 126.356649 144.851884 \nL 126.966596 145.281175 \nL 127.576543 144.050678 \nL 128.18649 145.024614 \nL 129.406384 144.777736 \nL 130.016332 145.717573 \nL 131.846173 146.888184 \nL 133.066067 146.621248 \nL 133.676015 145.989561 \nL 134.285962 144.374214 \nL 134.895909 144.266092 \nL 135.505856 144.648619 \nL 136.115803 144.539999 \nL 136.72575 144.91373 \nL 137.335698 145.757646 \nL 137.945645 145.642504 \nL 139.775486 146.691222 \nL 140.385433 145.657746 \nL 140.995381 146.4552 \nL 141.605328 146.339999 \nL 142.215275 147.119525 \nL 142.825222 147.443906 \nL 143.435169 146.884188 \nL 145.265011 147.833183 \nL 145.874958 147.71369 \nL 146.484905 148.019103 \nL 147.094852 147.899998 \nL 148.314747 148.494745 \nL 148.924694 149.196524 \nL 149.534641 149.072375 \nL 151.364482 149.908315 \nL 152.584377 151.233754 \nL 153.194324 151.491726 \nL 155.024165 151.095411 \nL 155.634113 151.347384 \nL 156.24406 150.462001 \nL 157.463954 150.964342 \nL 158.683848 150.717277 \nL 159.293796 149.132903 \nL 159.903743 149.022695 \nL 160.51369 148.552739 \nL 161.733584 148.343779 \nL 162.343531 148.95 \nL 164.173373 148.636933 \nL 165.393267 149.121818 \nL 166.613162 148.916053 \nL 167.223109 149.152505 \nL 167.833056 149.050653 \nL 168.443003 148.616469 \nL 170.272845 148.327287 \nL 170.882792 147.907247 \nL 171.492739 148.139999 \nL 172.102686 148.692273 \nL 172.712633 148.277286 \nL 173.32258 148.822582 \nL 173.932528 149.045026 \nL 174.542475 148.634998 \nL 175.762369 148.451537 \nL 177.592211 150.022706 \nL 178.812105 150.435724 \nL 179.422052 150.337345 \nL 180.031999 149.640001 \nL 181.861841 150.249374 \nL 182.471788 149.860731 \nL 183.081735 150.352891 \nL 183.691682 150.258465 \nL 184.301629 150.454287 \nL 184.911577 149.784673 \nL 186.131471 150.175175 \nL 186.741418 149.517002 \nL 187.351365 149.71164 \nL 187.961312 150.185052 \nL 188.57126 150.095172 \nL 189.181207 150.284116 \nL 189.791154 149.641463 \nL 190.401101 150.106021 \nL 192.84089 150.839999 \nL 193.450837 150.750431 \nL 194.670731 150.041412 \nL 195.280678 150.22178 \nL 195.890626 150.664184 \nL 196.500573 150.577498 \nL 197.11052 151.014191 \nL 197.720467 150.406516 \nL 198.940361 150.75409 \nL 199.550309 150.668958 \nL 200.160256 150.073788 \nL 200.770203 149.992467 \nL 201.38015 149.65875 \nL 201.990097 150.084003 \nL 203.819939 150.59132 \nL 205.039833 150.429134 \nL 206.259727 150.758534 \nL 206.869675 150.67777 \nL 207.479622 150.839999 \nL 208.089569 150.759573 \nL 208.699516 150.920086 \nL 209.309463 150.600758 \nL 209.91941 150.522352 \nL 210.529358 150.681843 \nL 211.139305 150.603749 \nL 211.749252 150.761575 \nL 212.359199 151.152399 \nL 212.969146 150.839999 \nL 213.579093 150.994919 \nL 214.189041 150.685712 \nL 214.798988 151.070486 \nL 216.018882 151.373466 \nL 216.628829 151.067715 \nL 217.238776 151.4448 \nL 217.848724 151.592987 \nL 218.458671 151.515003 \nL 219.068618 151.885853 \nL 219.678565 151.807328 \nL 220.288512 152.174123 \nL 220.898459 152.316564 \nL 221.508407 152.678526 \nL 222.118354 152.817908 \nL 222.728301 152.737297 \nL 223.338248 153.093462 \nL 223.948195 152.795172 \nL 224.558142 152.715574 \nL 225.16809 152.420993 \nL 225.778037 152.558187 \nL 226.387984 152.480381 \nL 226.997931 152.829475 \nL 227.607878 152.751237 \nL 228.217825 152.885153 \nL 228.827773 152.385727 \nL 230.047667 152.234837 \nL 230.657614 152.368677 \nL 231.267561 151.87846 \nL 232.487456 152.145819 \nL 233.097403 151.661744 \nL 233.70735 151.590545 \nL 234.317297 151.315903 \nL 234.927244 150.839999 \nL 235.537191 151.177501 \nL 236.147139 151.310817 \nL 237.367033 150.773218 \nL 237.97698 150.706902 \nL 238.586927 150.243156 \nL 239.196874 150.179163 \nL 239.806822 149.918048 \nL 240.416769 149.855627 \nL 241.026716 149.989831 \nL 241.636663 149.927587 \nL 242.24661 150.255466 \nL 242.856557 150.192741 \nL 243.466505 150.517477 \nL 244.076452 150.647143 \nL 245.296346 150.520746 \nL 246.51624 150.776581 \nL 247.126188 150.523948 \nL 247.736135 150.839999 \nL 248.346082 150.965584 \nL 249.565976 150.839999 \nL 250.175923 150.59132 \nL 250.785871 150.901972 \nL 251.395818 151.025293 \nL 252.005765 151.332514 \nL 252.615712 151.269544 \nL 253.225659 150.656504 \nL 253.835606 150.596128 \nL 254.445554 150.71846 \nL 255.055501 150.113076 \nL 255.665448 149.873869 \nL 256.275395 150.177896 \nL 256.885342 149.939999 \nL 257.495289 149.883036 \nL 258.105237 150.184165 \nL 258.715184 150.126797 \nL 259.325131 149.714293 \nL 259.935078 149.835941 \nL 260.545025 149.250285 \nL 261.154972 149.020439 \nL 261.76492 149.318637 \nL 262.374867 149.265003 \nL 263.594761 149.506567 \nL 264.204708 149.279451 \nL 264.814655 149.399451 \nL 266.03455 149.980909 \nL 266.644497 149.926404 \nL 267.254444 149.701451 \nL 268.474338 149.934608 \nL 269.084286 150.219406 \nL 269.694233 149.65875 \nL 270.30418 149.606172 \nL 270.914127 149.721661 \nL 271.524074 150.003721 \nL 272.134021 150.117351 \nL 272.743969 150.064046 \nL 273.353916 149.84526 \nL 274.57381 150.070814 \nL 275.183757 150.018261 \nL 275.793704 150.129889 \nL 276.403652 149.914069 \nL 277.013599 149.862412 \nL 277.623546 150.135989 \nL 278.233493 150.084003 \nL 278.84344 150.355383 \nL 279.453387 150.303067 \nL 280.063335 150.41167 \nL 280.673282 150.039156 \nL 281.283229 150.147885 \nL 281.893176 150.415286 \nL 282.503123 150.522352 \nL 283.11307 150.47045 \nL 283.723018 150.576771 \nL 284.332965 150.525005 \nL 284.942912 150.630583 \nL 286.772753 150.476541 \nL 287.382701 150.581097 \nL 288.602595 150.479507 \nL 289.822489 150.99366 \nL 290.432436 150.788916 \nL 291.042384 150.432455 \nL 292.262278 150.637317 \nL 292.872225 150.435724 \nL 293.482172 150.688804 \nL 294.092119 150.488142 \nL 294.702067 150.589335 \nL 295.312014 150.839999 \nL 296.531908 150.740529 \nL 297.751802 150.938953 \nL 298.36175 151.185434 \nL 298.971697 150.987661 \nL 299.581644 150.938184 \nL 300.191591 151.035854 \nL 300.801538 151.279539 \nL 301.411485 151.083557 \nL 302.63138 150.985388 \nL 303.241327 151.081689 \nL 303.851274 151.032855 \nL 304.461221 151.128547 \nL 305.071168 151.079848 \nL 305.681116 151.31848 \nL 306.291063 150.983183 \nL 306.90101 150.792397 \nL 308.730851 151.076248 \nL 309.340799 151.028529 \nL 309.950746 151.263139 \nL 310.560693 151.074491 \nL 311.17064 151.16748 \nL 311.780587 151.120006 \nL 312.390534 151.212412 \nL 313.000482 151.165064 \nL 314.220376 151.348313 \nL 314.830323 151.300974 \nL 315.44027 151.391825 \nL 317.270112 151.250871 \nL 318.490006 151.70322 \nL 319.099953 151.519861 \nL 319.7099 151.47302 \nL 320.929795 151.65 \nL 321.539742 151.603185 \nL 322.759636 151.778298 \nL 323.369583 151.998968 \nL 323.979531 151.951763 \nL 324.589478 152.037892 \nL 325.199425 151.990823 \nL 325.809372 151.679022 \nL 326.419319 151.897343 \nL 327.029266 151.982796 \nL 328.249161 151.890001 \nL 329.469055 152.059352 \nL 330.079002 151.752418 \nL 330.688949 151.706972 \nL 331.298897 151.402243 \nL 331.908844 151.487265 \nL 332.518791 151.442739 \nL 333.128738 151.527271 \nL 333.738685 151.739999 \nL 334.348632 151.823483 \nL 335.568527 151.733924 \nL 336.178474 151.562021 \nL 336.788421 151.77229 \nL 337.398368 151.854769 \nL 338.008315 151.810311 \nL 338.618263 152.01862 \nL 339.22821 151.722002 \nL 339.838157 151.929576 \nL 341.058051 151.841327 \nL 341.667998 152.04727 \nL 342.277946 152.127696 \nL 342.887893 151.95908 \nL 343.49784 152.039345 \nL 345.937629 151.86495 \nL 346.547576 151.699089 \nL 347.157523 151.289027 \nL 348.377417 151.449675 \nL 348.987365 151.651158 \nL 349.597312 151.730367 \nL 350.207259 151.566922 \nL 350.817206 151.766866 \nL 351.427153 151.724681 \nL 352.0371 151.803062 \nL 352.647048 151.64085 \nL 353.866942 151.079239 \nL 354.476889 150.919579 \nL 355.086836 151.117944 \nL 355.696783 151.077735 \nL 356.306731 151.156319 \nL 356.916678 151.116203 \nL 357.526625 151.312498 \nL 358.136572 151.390102 \nL 359.356466 151.074787 \nL 359.966414 150.566658 \nL 360.576361 150.411341 \nL 361.186308 150.140002 \nL 361.796255 150.102633 \nL 362.406202 149.949225 \nL 363.016149 150.028341 \nL 363.626097 149.991427 \nL 364.236044 150.070146 \nL 365.455938 150.456636 \nL 366.065885 150.533927 \nL 366.675832 150.496363 \nL 367.28578 150.344636 \nL 367.895727 150.307604 \nL 369.115621 150.46124 \nL 369.725568 150.197405 \nL 369.725568 150.197405 \n\" clip-path=\"url(#p5ef8dad234)\" style=\"fill: none; stroke: #ff7f0e; stroke-width: 1.5; stroke-linecap: square\"/>\n   </g>\n   <g id=\"line2d_18\">\n    <path d=\"M 65.361932 75.239996 \nL 65.971879 160.289998 \nL 66.581826 169.739997 \nL 67.191773 174.465001 \nL 67.80172 188.64 \nL 68.411668 188.64 \nL 69.021615 180.540001 \nL 69.631562 174.465001 \nL 70.241509 182.34 \nL 71.461403 183.485455 \nL 72.071351 183.915 \nL 72.681298 175.555386 \nL 73.291245 176.490001 \nL 73.901192 181.079999 \nL 74.511139 178.008752 \nL 75.121086 181.969412 \nL 75.731034 169.739997 \nL 76.340981 170.734735 \nL 76.950928 168.794998 \nL 77.560875 172.439997 \nL 78.170822 168.021817 \nL 78.780769 171.38348 \nL 80.000664 168.227997 \nL 80.610611 164.651536 \nL 81.830505 162.315002 \nL 82.440452 161.267585 \nL 83.0504 164.070003 \nL 83.660347 163.033552 \nL 84.270294 160.289998 \nL 84.880241 162.867277 \nL 85.490188 160.289998 \nL 86.100135 159.480005 \nL 86.710083 157.139998 \nL 87.929977 155.813689 \nL 88.539924 156.655383 \nL 89.759819 152.683908 \nL 90.369766 152.189998 \nL 90.979713 153.037674 \nL 91.58966 155.135457 \nL 92.199607 155.880005 \nL 92.809554 157.824786 \nL 93.419502 158.480425 \nL 94.029449 160.289998 \nL 94.639396 160.868574 \nL 95.249343 160.289998 \nL 95.85929 158.622351 \nL 97.079185 159.755094 \nL 97.689132 157.139998 \nL 98.299079 155.650911 \nL 98.909026 155.2275 \nL 99.518973 155.813689 \nL 100.12892 155.402073 \nL 100.738868 156.926442 \nL 101.348815 156.510002 \nL 102.568709 153.888391 \nL 104.398551 155.492308 \nL 105.618445 158.174328 \nL 106.228392 157.788532 \nL 106.838339 158.235651 \nL 108.058234 157.49493 \nL 108.668181 157.9275 \nL 109.278128 159.124929 \nL 109.888075 158.757568 \nL 111.717917 159.921818 \nL 112.327864 161.016921 \nL 112.937811 161.366581 \nL 113.547758 160.998747 \nL 114.157705 161.340001 \nL 114.767652 160.289998 \nL 115.3776 161.314696 \nL 117.207441 162.267907 \nL 118.427335 161.578641 \nL 119.64723 162.180005 \nL 120.257177 161.84769 \nL 120.867124 160.906307 \nL 122.087018 161.496382 \nL 122.696966 161.185266 \nL 123.91686 161.751338 \nL 125.136754 161.149088 \nL 126.356649 161.693463 \nL 126.966596 160.289998 \nL 127.576543 160.565248 \nL 128.18649 160.289998 \nL 128.796437 159.480005 \nL 129.406384 159.220191 \nL 130.016332 160.025047 \nL 130.626279 158.715002 \nL 131.236226 158.989543 \nL 132.45612 157.480542 \nL 133.066067 155.733754 \nL 133.676015 156.52673 \nL 134.285962 156.808419 \nL 134.895909 157.578262 \nL 136.115803 157.139998 \nL 137.335698 155.763528 \nL 137.945645 156.037502 \nL 138.555592 154.901159 \nL 139.165539 155.177702 \nL 139.775486 154.988784 \nL 141.605328 155.789998 \nL 142.215275 155.602203 \nL 142.825222 155.86031 \nL 143.435169 155.674881 \nL 144.655064 154.446876 \nL 145.265011 155.135457 \nL 145.874958 154.961054 \nL 146.484905 155.212385 \nL 147.094852 155.880005 \nL 148.924694 154.126956 \nL 149.534641 154.78317 \nL 150.144588 155.025004 \nL 150.754535 154.86128 \nL 151.364482 153.901267 \nL 151.97443 154.540701 \nL 152.584377 154.7775 \nL 153.194324 154.620003 \nL 154.414218 155.082863 \nL 155.024165 154.926489 \nL 155.634113 154.011146 \nL 156.24406 154.242005 \nL 156.854007 154.094309 \nL 159.293796 154.985809 \nL 159.903743 154.111156 \nL 160.51369 154.692234 \nL 161.733584 155.119244 \nL 162.343531 154.620003 \nL 162.953479 154.831303 \nL 163.563426 154.340005 \nL 164.173373 154.202574 \nL 164.78332 153.721102 \nL 165.393267 154.276367 \nL 166.003214 153.800243 \nL 166.613162 154.348386 \nL 167.833056 154.754207 \nL 168.443003 154.620003 \nL 169.662897 155.015584 \nL 170.272845 153.898961 \nL 170.882792 153.772759 \nL 171.492739 153.324001 \nL 172.102686 153.202505 \nL 172.712633 153.402711 \nL 173.32258 153.282136 \nL 173.932528 153.796424 \nL 174.542475 153.989998 \nL 175.152422 153.554919 \nL 176.982263 154.126956 \nL 178.202158 153.278714 \nL 179.422052 153.051699 \nL 180.031999 153.240001 \nL 181.251894 152.423249 \nL 181.861841 152.316564 \nL 182.471788 152.798552 \nL 183.081735 152.983297 \nL 183.691682 152.293845 \nL 184.301629 151.322147 \nL 184.911577 151.223759 \nL 185.521524 150.839999 \nL 186.741418 150.651004 \nL 187.351365 151.122092 \nL 189.181207 151.673826 \nL 189.791154 152.130729 \nL 190.401101 152.032721 \nL 191.620995 152.384713 \nL 192.230943 152.829475 \nL 192.84089 153 \nL 194.060784 152.801323 \nL 194.670731 152.969575 \nL 195.280678 152.341404 \nL 195.890626 152.246514 \nL 196.500573 152.677503 \nL 197.11052 152.320645 \nL 197.720467 152.48725 \nL 198.330414 152.393424 \nL 199.550309 152.721446 \nL 200.160256 152.62784 \nL 200.770203 152.789325 \nL 201.38015 153.202505 \nL 201.990097 152.856005 \nL 202.600044 153.265221 \nL 203.209992 152.921501 \nL 203.819939 152.829475 \nL 205.039833 153.633917 \nL 205.64978 153.785458 \nL 206.259727 154.180091 \nL 206.869675 154.327982 \nL 207.479622 154.716921 \nL 208.089569 154.378726 \nL 208.699516 154.283642 \nL 209.309463 154.66785 \nL 209.91941 154.810587 \nL 210.529358 154.240417 \nL 211.139305 153.911254 \nL 211.749252 153.820081 \nL 212.359199 153.963967 \nL 212.969146 153.406665 \nL 214.189041 153.694285 \nL 214.798988 154.066833 \nL 215.408935 154.206807 \nL 216.628829 154.938799 \nL 217.848724 155.207333 \nL 218.458671 155.115002 \nL 219.068618 154.79929 \nL 219.678565 154.709292 \nL 220.288512 154.175292 \nL 220.898459 154.088437 \nL 221.508407 153.340392 \nL 222.118354 153.037674 \nL 222.728301 152.080542 \nL 223.338248 151.784998 \nL 224.558142 152.06634 \nL 225.778037 152.77296 \nL 226.387984 152.694342 \nL 226.997931 152.829475 \nL 228.217825 152.673583 \nL 228.827773 152.807288 \nL 229.43772 153.150003 \nL 231.267561 153.539998 \nL 231.877508 153.46117 \nL 232.487456 152.970547 \nL 233.097403 153.305219 \nL 233.70735 153.432781 \nL 234.317297 153.151515 \nL 234.927244 153.481937 \nL 236.147139 153.328614 \nL 237.367033 153.578162 \nL 237.97698 153.10268 \nL 238.586927 153.028422 \nL 239.806822 153.671709 \nL 240.416769 153.596252 \nL 241.026716 153.325124 \nL 242.24661 153.178146 \nL 242.856557 152.717053 \nL 244.076452 153.347142 \nL 244.686399 153.274574 \nL 245.296346 153.39406 \nL 245.906293 153.130908 \nL 246.51624 153.250072 \nL 247.126188 152.799532 \nL 247.736135 153.108003 \nL 248.346082 152.849305 \nL 249.565976 152.711291 \nL 250.175923 152.829475 \nL 250.785871 153.132792 \nL 252.005765 153.364108 \nL 253.225659 153.225435 \nL 253.835606 152.60807 \nL 254.445554 152.723922 \nL 255.055501 152.293845 \nL 256.275395 152.525355 \nL 256.885342 152.820004 \nL 257.495289 152.933355 \nL 258.105237 152.330538 \nL 258.715184 152.266419 \nL 259.325131 152.558187 \nL 259.935078 152.316564 \nL 260.545025 152.429721 \nL 261.154972 152.718261 \nL 262.984814 152.526461 \nL 263.594761 152.289392 \nL 265.424603 152.620853 \nL 267.254444 152.433979 \nL 267.864391 152.031893 \nL 268.474338 152.141501 \nL 269.084286 151.742685 \nL 269.694233 151.683754 \nL 270.30418 151.793413 \nL 271.524074 151.676285 \nL 272.134021 151.451475 \nL 272.743969 151.560526 \nL 273.353916 151.337372 \nL 274.57381 151.883893 \nL 275.183757 151.661744 \nL 275.793704 151.768615 \nL 277.013599 151.654656 \nL 277.623546 151.760631 \nL 278.233493 152.027998 \nL 278.84344 151.970773 \nL 279.453387 152.23602 \nL 280.063335 152.339148 \nL 280.673282 152.281526 \nL 281.283229 152.383944 \nL 281.893176 152.167245 \nL 282.503123 152.110587 \nL 283.11307 152.212625 \nL 283.723018 151.998216 \nL 284.332965 151.942503 \nL 285.552859 152.458506 \nL 287.992648 152.853935 \nL 289.212542 152.740271 \nL 289.822489 152.530246 \nL 290.432436 152.474593 \nL 291.042384 152.266419 \nL 292.262278 152.157428 \nL 292.872225 152.254971 \nL 293.482172 152.049602 \nL 294.092119 151.99612 \nL 294.702067 152.093317 \nL 295.921961 151.98697 \nL 296.531908 152.083423 \nL 297.141855 151.88173 \nL 297.751802 151.829532 \nL 298.36175 151.925639 \nL 299.581644 151.527271 \nL 300.191591 151.476526 \nL 301.411485 151.668098 \nL 302.021433 151.617379 \nL 303.241327 151.806754 \nL 303.851274 152.045361 \nL 304.461221 152.138477 \nL 305.681116 152.036202 \nL 306.291063 152.128634 \nL 306.90101 152.36343 \nL 307.510957 152.454578 \nL 308.120904 152.261054 \nL 308.730851 152.351999 \nL 309.340799 152.583889 \nL 310.560693 152.481437 \nL 311.17064 152.290245 \nL 311.780587 152.379999 \nL 312.390534 152.189998 \nL 313.610429 152.368677 \nL 314.220376 152.180096 \nL 314.830323 152.130729 \nL 315.44027 151.943652 \nL 316.660165 152.121359 \nL 317.270112 152.346524 \nL 317.880059 152.160723 \nL 318.490006 152.248415 \nL 321.539742 152.007222 \nL 322.759636 151.644255 \nL 323.369583 151.865237 \nL 323.979531 151.951763 \nL 324.589478 151.638594 \nL 325.199425 151.85803 \nL 327.029266 152.114651 \nL 327.639214 152.067843 \nL 328.249161 152.283748 \nL 328.859108 151.974871 \nL 329.469055 151.928714 \nL 330.079002 152.013103 \nL 330.688949 151.837018 \nL 331.908844 152.005068 \nL 332.518791 151.959367 \nL 333.128738 151.784998 \nL 333.738685 151.997143 \nL 334.348632 151.951763 \nL 334.95858 152.03458 \nL 335.568527 151.989327 \nL 336.178474 152.199106 \nL 336.788421 152.153676 \nL 337.398368 152.362146 \nL 338.008315 152.189998 \nL 338.618263 152.144898 \nL 339.22821 152.351999 \nL 339.838157 152.306738 \nL 341.058051 152.46715 \nL 341.667998 152.421939 \nL 342.277946 152.25231 \nL 342.887893 152.33211 \nL 345.327681 152.154783 \nL 345.937629 152.233925 \nL 347.157523 152.636112 \nL 350.207259 153.020768 \nL 350.817206 152.975819 \nL 351.427153 153.051699 \nL 352.0371 153.247648 \nL 352.647048 153.322632 \nL 353.256995 153.517169 \nL 353.866942 153.471646 \nL 354.476889 153.665051 \nL 355.086836 153.61941 \nL 356.306731 153.76594 \nL 357.526625 153.675004 \nL 358.136572 153.747691 \nL 358.746519 153.937716 \nL 359.356466 154.009566 \nL 359.966414 153.963967 \nL 360.576361 154.15237 \nL 361.186308 154.223333 \nL 361.796255 154.410435 \nL 362.406202 154.364389 \nL 363.016149 154.202574 \nL 363.626097 154.157144 \nL 364.236044 153.880939 \nL 365.455938 154.021952 \nL 366.065885 153.747691 \nL 366.675832 153.81818 \nL 367.895727 153.50197 \nL 368.505674 153.458677 \nL 369.725568 152.919 \nL 369.725568 152.919 \n\" clip-path=\"url(#p5ef8dad234)\" style=\"fill: none; stroke: #2ca02c; stroke-width: 1.5; stroke-linecap: square\"/>\n   </g>\n   <g id=\"line2d_19\">\n    <path d=\"M 65.361932 188.64 \nL 65.971879 188.64 \nL 66.581826 207.539999 \nL 67.191773 202.814999 \nL 67.80172 177.300003 \nL 68.411668 179.190001 \nL 69.021615 188.64 \nL 70.241509 188.64 \nL 71.461403 168.021817 \nL 72.071351 160.289998 \nL 73.291245 156.239998 \nL 73.901192 158.4 \nL 74.511139 156.746251 \nL 75.121086 161.957645 \nL 75.731034 163.439998 \nL 76.340981 155.813689 \nL 77.560875 158.939998 \nL 78.170822 155.135457 \nL 78.780769 154.126956 \nL 79.390717 157.9275 \nL 80.000664 156.887999 \nL 81.220558 159.240004 \nL 81.830505 162.315002 \nL 82.440452 161.267585 \nL 83.660347 166.691613 \nL 84.270294 167.377499 \nL 84.880241 164.585457 \nL 85.490188 165.292939 \nL 86.100135 164.339998 \nL 87.32003 156.458919 \nL 87.929977 157.305792 \nL 88.539924 156.655383 \nL 89.149871 157.455001 \nL 89.759819 156.832684 \nL 90.979713 158.312097 \nL 92.199607 157.139998 \nL 92.809554 154.126956 \nL 93.419502 153.654896 \nL 94.639396 157.397142 \nL 95.249343 155.753997 \nL 95.85929 157.510586 \nL 96.469237 155.92846 \nL 98.299079 157.712728 \nL 98.909026 157.252504 \nL 99.518973 158.797895 \nL 101.348815 160.289998 \nL 101.958762 158.895742 \nL 102.568709 159.375483 \nL 103.178656 160.739998 \nL 103.788603 161.175939 \nL 104.398551 162.470767 \nL 105.008498 162.008186 \nL 107.448286 163.530004 \nL 108.058234 162.286478 \nL 108.668181 162.652504 \nL 109.278128 162.23178 \nL 109.888075 163.354866 \nL 110.498022 162.936 \nL 111.717917 163.603637 \nL 112.937811 162.802025 \nL 114.157705 160.640004 \nL 114.767652 160.981461 \nL 115.987547 158.939998 \nL 116.597494 158.622351 \nL 117.207441 157.652791 \nL 117.817388 157.357246 \nL 118.427335 157.712728 \nL 119.037283 156.786071 \nL 119.64723 156.510002 \nL 120.257177 157.486152 \nL 120.867124 156.592176 \nL 122.696966 155.813689 \nL 123.91686 154.15237 \nL 124.526807 153.925719 \nL 125.136754 152.558187 \nL 125.746701 151.784998 \nL 126.356649 152.1499 \nL 126.966596 153.063528 \nL 128.18649 152.65731 \nL 128.796437 151.380005 \nL 129.406384 151.731507 \nL 130.016332 151.546543 \nL 130.626279 151.890001 \nL 131.236226 150.666609 \nL 131.846173 151.527271 \nL 133.066067 152.189998 \nL 134.285962 151.834737 \nL 135.505856 152.469313 \nL 136.115803 151.324614 \nL 136.72575 151.160341 \nL 137.335698 151.475293 \nL 137.945645 150.839999 \nL 138.555592 151.152399 \nL 139.165539 150.994919 \nL 139.775486 151.300974 \nL 140.385433 152.059352 \nL 141.605328 151.739999 \nL 143.435169 152.598142 \nL 144.045116 152.003082 \nL 144.655064 151.849928 \nL 145.265011 152.128634 \nL 145.874958 151.124213 \nL 148.314747 150.564089 \nL 148.924694 150.018261 \nL 150.144588 149.760002 \nL 150.754535 149.231494 \nL 151.364482 149.10972 \nL 151.97443 148.196641 \nL 152.584377 147.689999 \nL 153.804271 147.474246 \nL 154.414218 146.597143 \nL 155.024165 146.498113 \nL 155.634113 145.639327 \nL 156.24406 145.548002 \nL 156.854007 145.833382 \nL 157.463954 145.741973 \nL 158.073901 144.910587 \nL 158.683848 144.826368 \nL 159.903743 146.115003 \nL 160.51369 146.38586 \nL 161.123637 145.935573 \nL 161.733584 146.204157 \nL 162.343531 146.823752 \nL 162.953479 147.083482 \nL 163.563426 147.689999 \nL 164.78332 148.189391 \nL 165.393267 147.060002 \nL 166.613162 146.878924 \nL 167.223109 147.127501 \nL 167.833056 147.037638 \nL 168.443003 147.615885 \nL 169.05295 147.855793 \nL 170.882792 149.536552 \nL 171.492739 149.112001 \nL 172.102686 149.014432 \nL 172.712633 148.597628 \nL 173.32258 148.504048 \nL 173.932528 147.777986 \nL 174.542475 147.689999 \nL 175.152422 148.229507 \nL 175.762369 148.451537 \nL 176.372316 147.741639 \nL 176.982263 147.963914 \nL 177.592211 147.877295 \nL 178.202158 148.096453 \nL 179.422052 149.13096 \nL 180.031999 149.039999 \nL 180.641946 149.248426 \nL 181.251894 149.157803 \nL 181.861841 148.477501 \nL 182.471788 148.391812 \nL 183.691682 148.804619 \nL 184.911577 149.784673 \nL 185.521524 149.980909 \nL 186.131471 149.890251 \nL 186.741418 150.367499 \nL 187.961312 149.623661 \nL 188.57126 149.536552 \nL 189.791154 148.811708 \nL 191.011048 149.196524 \nL 192.230943 149.031389 \nL 192.84089 148.680006 \nL 194.670731 149.242816 \nL 195.280678 148.897009 \nL 195.890626 149.081863 \nL 196.500573 148.477501 \nL 197.11052 148.401291 \nL 197.720467 148.845968 \nL 198.330414 149.027672 \nL 198.940361 148.692273 \nL 199.550309 148.87303 \nL 200.160256 148.796762 \nL 200.770203 148.975423 \nL 201.38015 148.646252 \nL 201.990097 148.572002 \nL 202.600044 148.24752 \nL 203.209992 148.425464 \nL 205.039833 148.210438 \nL 205.64978 147.894548 \nL 206.869675 147.757599 \nL 207.479622 147.447691 \nL 208.089569 147.622982 \nL 208.699516 147.316276 \nL 209.309463 147.729878 \nL 209.91941 146.948822 \nL 210.529358 146.648791 \nL 211.139305 147.060002 \nL 211.749252 146.526721 \nL 212.359199 146.232148 \nL 212.969146 146.640005 \nL 213.579093 146.347375 \nL 214.189041 146.520004 \nL 214.798988 145.999759 \nL 215.408935 145.942839 \nL 216.018882 145.657746 \nL 216.628829 146.058074 \nL 217.238776 145.774797 \nL 217.848724 145.267894 \nL 218.458671 145.215003 \nL 219.068618 145.386644 \nL 219.678565 145.110473 \nL 220.288512 145.058824 \nL 220.898459 145.229062 \nL 221.508407 145.618602 \nL 222.728301 145.512973 \nL 223.338248 145.896927 \nL 224.558142 145.790386 \nL 225.16809 145.522131 \nL 225.778037 145.470686 \nL 226.387984 145.63359 \nL 226.997931 145.155793 \nL 227.607878 145.10629 \nL 228.217825 145.26873 \nL 228.827773 145.008401 \nL 229.43772 144.960005 \nL 230.047667 145.121186 \nL 230.657614 145.072723 \nL 231.267561 145.439999 \nL 231.877508 145.390733 \nL 233.097403 145.70413 \nL 233.70735 145.654442 \nL 235.537191 146.115003 \nL 236.757086 146.818725 \nL 237.367033 146.966506 \nL 238.586927 146.861055 \nL 239.196874 146.610628 \nL 239.806822 146.757073 \nL 242.24661 146.553403 \nL 243.466505 147.227714 \nL 244.076452 147.175719 \nL 245.296346 147.455878 \nL 245.906293 147.785455 \nL 246.51624 147.922548 \nL 247.126188 148.248365 \nL 248.956029 148.649606 \nL 250.785871 148.485249 \nL 251.395818 148.616469 \nL 252.005765 148.377457 \nL 253.835606 148.767097 \nL 255.055501 149.386153 \nL 255.665448 149.330415 \nL 256.275395 149.094461 \nL 256.885342 149.220004 \nL 257.495289 149.524175 \nL 259.325131 149.358812 \nL 260.545025 149.603553 \nL 261.154972 149.372609 \nL 261.76492 149.494181 \nL 262.374867 149.790004 \nL 262.984814 149.560615 \nL 263.594761 149.680489 \nL 264.814655 149.572317 \nL 265.424603 149.174041 \nL 266.03455 148.95 \nL 266.644497 149.241211 \nL 267.254444 149.189097 \nL 267.864391 149.307569 \nL 269.084286 149.203883 \nL 269.694233 149.489999 \nL 270.914127 149.721661 \nL 271.524074 149.501946 \nL 272.134021 149.450297 \nL 273.353916 149.679475 \nL 274.57381 149.576339 \nL 275.183757 149.853912 \nL 275.793704 149.802137 \nL 276.403652 149.42386 \nL 277.013599 149.373623 \nL 277.623546 149.486129 \nL 278.84344 149.386153 \nL 279.453387 148.853353 \nL 280.063335 148.966062 \nL 281.283229 149.509017 \nL 281.893176 149.459667 \nL 283.11307 149.995306 \nL 283.723018 149.945017 \nL 284.332965 150.052505 \nL 284.942912 149.374071 \nL 285.552859 149.482547 \nL 286.162806 149.278014 \nL 287.382701 149.183014 \nL 287.992648 149.290823 \nL 288.602595 149.243543 \nL 289.212542 149.504675 \nL 289.822489 149.610734 \nL 290.432436 149.562972 \nL 291.042384 149.668306 \nL 291.652331 149.468226 \nL 293.482172 149.327998 \nL 294.092119 148.980163 \nL 295.312014 148.890004 \nL 295.921961 148.695678 \nL 296.531908 148.95 \nL 298.36175 149.260888 \nL 298.971697 149.215779 \nL 299.581644 149.023642 \nL 300.191591 149.126271 \nL 300.801538 149.081863 \nL 301.411485 149.32995 \nL 302.021433 149.285247 \nL 303.851274 149.586427 \nL 305.071168 149.496851 \nL 306.291063 149.694548 \nL 306.90101 149.649828 \nL 307.510957 149.462869 \nL 308.120904 149.703157 \nL 308.730851 149.800498 \nL 309.340799 149.614562 \nL 309.950746 149.288508 \nL 310.560693 149.386153 \nL 311.17064 149.062279 \nL 311.780587 149.02 \nL 312.390534 148.83828 \nL 313.000482 148.936068 \nL 313.610429 148.755446 \nL 314.220376 148.991595 \nL 314.830323 148.673415 \nL 315.44027 148.770654 \nL 316.050217 148.729804 \nL 316.660165 148.414581 \nL 317.270112 148.237829 \nL 317.880059 148.335178 \nL 318.490006 148.295772 \nL 319.099953 148.52849 \nL 320.929795 148.410002 \nL 321.539742 148.640236 \nL 322.149689 148.331942 \nL 322.759636 148.427238 \nL 323.369583 148.254626 \nL 323.979531 148.349651 \nL 324.589478 148.311124 \nL 325.809372 148.499578 \nL 326.419319 148.725317 \nL 327.029266 148.55442 \nL 327.639214 148.778977 \nL 328.249161 148.871248 \nL 328.859108 148.832146 \nL 330.688949 149.106053 \nL 331.298897 149.326275 \nL 331.908844 149.286573 \nL 332.518791 149.376217 \nL 333.128738 149.207727 \nL 333.738685 148.911431 \nL 334.348632 148.74475 \nL 334.95858 148.706823 \nL 335.568527 148.796762 \nL 338.008315 148.646252 \nL 338.618263 148.735321 \nL 339.22821 148.446003 \nL 340.448104 148.623854 \nL 341.058051 148.587025 \nL 341.667998 148.425464 \nL 342.277946 148.389235 \nL 343.49784 148.565387 \nL 344.717734 148.492946 \nL 345.327681 148.580215 \nL 345.937629 148.421129 \nL 346.547576 148.630909 \nL 347.76747 148.80336 \nL 348.377417 148.523227 \nL 349.597312 148.452205 \nL 350.207259 148.53808 \nL 350.817206 148.381791 \nL 352.647048 148.637668 \nL 353.256995 148.842116 \nL 353.866942 148.926081 \nL 354.476889 149.129051 \nL 355.086836 149.212062 \nL 355.696783 149.17585 \nL 356.306731 149.258413 \nL 356.916678 149.103881 \nL 358.136572 149.268273 \nL 358.746519 149.467592 \nL 359.356466 149.313914 \nL 360.576361 149.476083 \nL 361.186308 149.323335 \nL 361.796255 149.404064 \nL 363.626097 149.297143 \nL 364.845991 149.572317 \nL 365.455938 149.421545 \nL 367.28578 149.315807 \nL 369.725568 149.743805 \nL 369.725568 149.743805 \n\" clip-path=\"url(#p5ef8dad234)\" style=\"fill: none; stroke: #d62728; stroke-width: 1.5; stroke-linecap: square\"/>\n   </g>\n   <g id=\"line2d_20\">\n    <path d=\"M 65.361932 245.34 \nL 65.971879 160.289998 \nL 66.581826 131.94 \nL 67.80172 131.94 \nL 68.411668 141.389999 \nL 69.021615 140.039999 \nL 69.631562 146.115003 \nL 70.241509 150.839999 \nL 70.851456 154.620003 \nL 71.461403 147.403638 \nL 72.681298 153.747691 \nL 73.291245 156.239998 \nL 73.901192 150.839999 \nL 74.511139 153.202505 \nL 75.121086 138.610588 \nL 76.340981 137.90842 \nL 76.950928 140.445 \nL 77.560875 137.34 \nL 78.170822 142.249089 \nL 78.780769 144.266092 \nL 79.390717 148.477501 \nL 80.610611 151.566922 \nL 81.830505 150.165003 \nL 82.440452 147.581379 \nL 83.660347 153.888391 \nL 85.490188 156.954704 \nL 86.100135 159.480005 \nL 86.710083 160.289998 \nL 87.32003 159.523787 \nL 87.929977 157.305792 \nL 88.539924 158.109229 \nL 89.759819 162.364395 \nL 90.369766 157.589998 \nL 90.979713 156.993493 \nL 91.58966 159.001363 \nL 92.809554 155.359566 \nL 94.029449 154.383754 \nL 94.639396 152.768575 \nL 95.249343 153.486001 \nL 95.85929 151.951763 \nL 96.469237 153.747691 \nL 97.079185 152.266419 \nL 97.689132 152.940004 \nL 98.909026 152.189998 \nL 99.518973 153.824213 \nL 100.12892 154.424486 \nL 100.738868 152.121359 \nL 101.348815 150.839999 \nL 101.958762 150.530167 \nL 102.568709 152.059352 \nL 103.178656 150.839999 \nL 103.788603 151.430623 \nL 105.008498 149.121818 \nL 105.618445 149.71164 \nL 106.228392 149.450297 \nL 106.838339 148.374787 \nL 107.448286 148.95 \nL 108.668181 148.477501 \nL 109.278128 146.697533 \nL 109.888075 148.030543 \nL 110.498022 148.572002 \nL 112.937811 147.729878 \nL 113.547758 146.823752 \nL 114.767652 146.460735 \nL 115.3776 146.968914 \nL 115.987547 146.115003 \nL 117.817388 147.581379 \nL 118.427335 147.403638 \nL 119.037283 147.866971 \nL 119.64723 147.689999 \nL 120.257177 148.139999 \nL 120.867124 149.196524 \nL 122.087018 148.829366 \nL 122.696966 149.84526 \nL 123.306913 150.249374 \nL 123.91686 150.060616 \nL 125.136754 150.839999 \nL 125.746701 150.651004 \nL 126.966596 149.172352 \nL 127.576543 149.555537 \nL 128.18649 148.840967 \nL 128.796437 149.760002 \nL 129.406384 150.126797 \nL 130.016332 148.897009 \nL 130.626279 148.215 \nL 131.236226 149.106053 \nL 131.846173 149.465454 \nL 133.066067 149.152505 \nL 133.676015 148.498412 \nL 134.285962 149.347896 \nL 134.895909 149.689563 \nL 136.72575 149.238304 \nL 137.335698 149.56941 \nL 137.945645 149.4225 \nL 138.555592 148.809427 \nL 139.165539 147.741639 \nL 139.775486 148.535123 \nL 140.385433 148.858549 \nL 140.995381 149.630403 \nL 142.825222 150.544691 \nL 143.435169 151.279539 \nL 144.045116 151.566922 \nL 144.655064 151.417105 \nL 145.265011 150.839999 \nL 145.874958 151.124213 \nL 146.484905 150.557913 \nL 147.094852 150.839999 \nL 147.704799 150.70103 \nL 148.924694 151.250871 \nL 150.144588 150.975004 \nL 150.754535 150.43787 \nL 151.364482 150.706902 \nL 151.97443 150.575664 \nL 152.584377 150.839999 \nL 153.194324 150.318622 \nL 154.414218 150.068575 \nL 156.24406 151.974001 \nL 158.683848 151.453638 \nL 159.293796 150.961934 \nL 160.51369 150.719618 \nL 161.123637 150.241897 \nL 161.733584 149.413586 \nL 162.953479 149.900872 \nL 163.563426 149.790004 \nL 164.173373 149.332637 \nL 164.78332 149.226586 \nL 165.393267 149.80909 \nL 166.003214 149.701451 \nL 166.613162 150.27413 \nL 167.223109 149.827501 \nL 167.833056 150.05716 \nL 168.443003 149.950594 \nL 171.492739 151.056005 \nL 172.102686 150.303067 \nL 173.932528 150.945585 \nL 174.542475 151.470004 \nL 175.152422 151.675364 \nL 175.762369 151.255383 \nL 176.372316 151.149839 \nL 176.982263 151.661744 \nL 178.202158 152.059352 \nL 178.812105 151.951763 \nL 180.031999 152.340001 \nL 180.641946 151.934215 \nL 181.251894 152.423249 \nL 182.471788 152.210986 \nL 183.081735 151.521956 \nL 184.301629 151.900715 \nL 185.521524 151.126368 \nL 186.131471 151.029948 \nL 186.741418 151.501501 \nL 187.351365 150.839999 \nL 189.791154 150.471218 \nL 190.401101 149.830779 \nL 191.011048 149.744346 \nL 191.620995 150.203944 \nL 192.230943 149.84526 \nL 192.84089 150.030005 \nL 193.450837 149.944265 \nL 194.670731 150.307604 \nL 195.280678 150.751682 \nL 195.890626 150.400467 \nL 196.500573 150.314997 \nL 198.330414 150.839999 \nL 199.550309 150.155836 \nL 200.770203 150.500984 \nL 201.38015 150.924378 \nL 201.990097 150.839999 \nL 202.600044 151.007254 \nL 203.819939 151.834737 \nL 205.039833 151.661744 \nL 205.64978 151.821818 \nL 206.259727 152.224918 \nL 206.869675 152.137852 \nL 207.479622 151.809229 \nL 208.089569 151.724681 \nL 208.699516 151.881105 \nL 209.309463 152.275443 \nL 210.529358 152.579749 \nL 211.139305 152.257497 \nL 212.969146 152.706669 \nL 213.579093 152.621563 \nL 214.189041 152.768575 \nL 214.798988 153.144883 \nL 216.018882 152.973876 \nL 216.628829 153.344819 \nL 217.848724 153.174268 \nL 218.458671 152.865003 \nL 219.068618 152.33407 \nL 219.678565 152.70024 \nL 220.288512 152.841177 \nL 220.898459 152.759534 \nL 221.508407 152.016651 \nL 222.118354 152.158602 \nL 222.728301 152.518376 \nL 223.338248 152.439234 \nL 225.16809 152.852169 \nL 225.778037 152.77296 \nL 226.387984 152.480381 \nL 226.997931 152.829475 \nL 227.607878 152.751237 \nL 228.827773 153.018072 \nL 229.43772 152.940004 \nL 230.047667 153.071732 \nL 231.267561 152.916922 \nL 231.877508 152.633434 \nL 234.927244 152.262583 \nL 236.147139 151.714381 \nL 236.757086 151.845323 \nL 237.367033 151.774986 \nL 238.586927 152.43158 \nL 239.196874 152.558187 \nL 239.806822 152.486346 \nL 241.026716 152.736545 \nL 241.636663 153.055865 \nL 242.24661 152.788455 \nL 244.076452 152.575719 \nL 244.686399 152.697967 \nL 245.906293 152.176362 \nL 246.51624 152.488999 \nL 247.126188 152.230638 \nL 247.736135 151.596003 \nL 248.346082 151.530701 \nL 248.956029 151.278077 \nL 250.175923 151.896913 \nL 252.005765 151.701894 \nL 253.225659 151.940974 \nL 253.835606 151.876449 \nL 254.445554 151.447715 \nL 255.055501 151.748659 \nL 255.665448 151.504222 \nL 256.275395 150.900189 \nL 256.885342 150.839999 \nL 257.495289 151.139049 \nL 258.105237 151.257352 \nL 258.715184 151.196604 \nL 261.154972 151.661744 \nL 261.76492 151.42514 \nL 262.374867 151.540003 \nL 263.594761 151.419758 \nL 264.204708 151.533582 \nL 265.424603 151.069785 \nL 266.03455 151.183635 \nL 266.644497 150.954203 \nL 269.694233 151.515003 \nL 270.30418 151.793413 \nL 270.914127 151.90243 \nL 272.134021 151.784998 \nL 272.743969 151.560526 \nL 275.183757 151.990434 \nL 275.793704 151.440872 \nL 277.013599 151.654656 \nL 277.623546 151.598166 \nL 278.233493 151.865998 \nL 278.84344 151.647694 \nL 280.063335 151.857279 \nL 280.673282 152.121359 \nL 281.283229 151.904787 \nL 281.893176 151.530169 \nL 282.503123 151.475293 \nL 283.11307 151.103969 \nL 284.332965 151.312498 \nL 284.942912 151.258839 \nL 285.552859 151.04884 \nL 286.772753 151.255383 \nL 288.602595 151.097497 \nL 289.212542 151.19951 \nL 289.822489 150.99366 \nL 290.432436 150.942163 \nL 291.042384 151.196604 \nL 291.652331 151.144837 \nL 292.262278 150.941344 \nL 293.482172 151.142404 \nL 294.092119 151.392924 \nL 294.702067 151.341326 \nL 295.312014 151.140004 \nL 296.531908 151.337372 \nL 297.141855 151.286458 \nL 297.751802 150.938953 \nL 298.36175 150.889349 \nL 298.971697 150.987661 \nL 299.581644 151.232732 \nL 300.191591 151.329641 \nL 300.801538 151.133025 \nL 301.411485 151.22969 \nL 302.021433 151.180103 \nL 302.63138 151.276159 \nL 303.241327 151.226699 \nL 303.851274 151.322147 \nL 304.461221 150.984273 \nL 306.291063 151.269544 \nL 306.90101 151.506503 \nL 307.510957 151.599797 \nL 308.730851 151.501501 \nL 309.340799 151.311324 \nL 310.560693 151.215191 \nL 311.17064 151.307826 \nL 311.780587 150.979998 \nL 312.390534 151.072759 \nL 313.000482 151.025749 \nL 313.610429 150.839999 \nL 314.220376 150.932422 \nL 314.830323 151.162681 \nL 315.44027 151.115916 \nL 316.660165 151.297628 \nL 317.270112 151.250871 \nL 317.880059 151.340963 \nL 319.099953 151.247914 \nL 319.7099 151.066076 \nL 320.929795 151.244999 \nL 321.539742 150.795109 \nL 322.149689 151.01915 \nL 322.759636 150.705956 \nL 323.369583 150.52797 \nL 323.979531 150.484238 \nL 324.589478 150.573806 \nL 325.199425 150.397375 \nL 325.809372 150.354251 \nL 326.419319 149.650495 \nL 327.029266 149.741161 \nL 327.639214 149.962971 \nL 328.249161 149.790004 \nL 328.859108 149.748773 \nL 329.469055 149.315807 \nL 330.079002 149.27586 \nL 330.688949 149.496192 \nL 331.298897 149.456017 \nL 331.908844 149.157127 \nL 332.518791 149.117907 \nL 333.128738 149.207727 \nL 333.738685 149.039999 \nL 334.348632 149.001311 \nL 334.95858 149.090794 \nL 335.568527 148.924459 \nL 336.788421 148.8483 \nL 337.398368 148.937319 \nL 338.008315 149.152505 \nL 339.22821 149.076 \nL 339.838157 148.912284 \nL 340.448104 149.000179 \nL 341.058051 148.962522 \nL 341.667998 148.800133 \nL 342.887893 148.726188 \nL 343.49784 148.813524 \nL 344.107787 148.776678 \nL 344.717734 148.616469 \nL 347.157523 148.472398 \nL 347.76747 148.558966 \nL 348.377417 148.767097 \nL 348.987365 148.730987 \nL 349.597312 148.816448 \nL 351.427153 148.346812 \nL 357.526625 149.18625 \nL 358.136572 149.150393 \nL 358.746519 148.879418 \nL 359.966414 149.278014 \nL 360.576361 149.359175 \nL 361.186308 149.556669 \nL 362.406202 149.484465 \nL 363.016149 149.680489 \nL 364.236044 149.608233 \nL 364.845991 149.457073 \nL 365.455938 149.421545 \nL 366.065885 149.500932 \nL 367.895727 149.965354 \nL 369.115621 150.120359 \nL 369.725568 150.310798 \nL 369.725568 150.310798 \n\" clip-path=\"url(#p5ef8dad234)\" style=\"fill: none; stroke: #9467bd; stroke-width: 1.5; stroke-linecap: square\"/>\n   </g>\n   <g id=\"line2d_21\">\n    <path d=\"M 65.361932 188.64 \nL 65.971879 188.64 \nL 66.581826 169.739997 \nL 67.191773 160.289998 \nL 67.80172 131.94 \nL 68.411668 141.389999 \nL 69.021615 148.139999 \nL 69.631562 153.202505 \nL 70.241509 163.439998 \nL 71.461403 168.021817 \nL 72.681298 162.470767 \nL 73.291245 160.289998 \nL 73.901192 150.839999 \nL 75.121086 155.287057 \nL 76.340981 152.829475 \nL 76.950928 154.620003 \nL 77.560875 150.839999 \nL 78.170822 149.980909 \nL 78.780769 146.731304 \nL 79.390717 148.477501 \nL 80.610611 147.205383 \nL 81.220558 150.839999 \nL 81.830505 150.165003 \nL 82.440452 153.446899 \nL 83.0504 147.060002 \nL 83.660347 148.401291 \nL 84.270294 151.430623 \nL 84.880241 152.558187 \nL 85.490188 150.284116 \nL 86.100135 149.760002 \nL 87.32003 154.926489 \nL 87.929977 152.829475 \nL 89.149871 146.115003 \nL 89.759819 145.769272 \nL 90.369766 148.139999 \nL 90.979713 145.126044 \nL 91.58966 139.671819 \nL 92.199607 140.760003 \nL 92.809554 143.033482 \nL 93.419502 142.797452 \nL 94.029449 143.752505 \nL 94.639396 142.354287 \nL 95.85929 144.169411 \nL 96.469237 142.843845 \nL 97.079185 142.638113 \nL 97.689132 141.389999 \nL 98.299079 143.279997 \nL 98.909026 143.077501 \nL 99.518973 141.887373 \nL 100.12892 141.715867 \nL 100.738868 140.589156 \nL 101.348815 141.389999 \nL 101.958762 143.094103 \nL 102.568709 143.828715 \nL 103.788603 141.685316 \nL 104.398551 142.407693 \nL 105.008498 142.249089 \nL 105.618445 143.787763 \nL 106.228392 144.447356 \nL 106.838339 143.444347 \nL 108.058234 144.717469 \nL 108.668181 144.539999 \nL 109.278128 143.590683 \nL 111.107969 143.130789 \nL 111.717917 141.512729 \nL 112.327864 140.663076 \nL 112.937811 141.270379 \nL 113.547758 142.571248 \nL 114.157705 142.440002 \nL 114.767652 143.694884 \nL 115.3776 143.553254 \nL 115.987547 144.765003 \nL 116.597494 143.279997 \nL 117.207441 143.807441 \nL 117.817388 143.019313 \nL 118.427335 142.893407 \nL 119.037283 142.133263 \nL 119.64723 142.020004 \nL 120.257177 141.286153 \nL 120.867124 142.417173 \nL 121.477071 141.694838 \nL 122.087018 142.797452 \nL 122.696966 142.683163 \nL 123.91686 143.630722 \nL 124.526807 143.511431 \nL 125.136754 144.539999 \nL 125.746701 144.981001 \nL 126.966596 144.725293 \nL 127.576543 145.151653 \nL 128.18649 145.024614 \nL 128.796437 145.979997 \nL 129.406384 145.847551 \nL 130.626279 146.640005 \nL 131.236226 146.505142 \nL 131.846173 145.857276 \nL 132.45612 146.242701 \nL 133.676015 147.996637 \nL 134.285962 147.855793 \nL 134.895909 147.224351 \nL 135.505856 147.581379 \nL 136.72575 149.238304 \nL 137.335698 147.663528 \nL 138.555592 149.278014 \nL 139.165539 149.600655 \nL 139.775486 148.996098 \nL 140.385433 148.858549 \nL 140.995381 147.362399 \nL 141.605328 147.239999 \nL 142.215275 145.780163 \nL 142.825222 145.229062 \nL 143.435169 145.126044 \nL 144.655064 145.790386 \nL 145.265011 145.255913 \nL 145.874958 146.00842 \nL 147.094852 145.800001 \nL 148.924694 146.731304 \nL 149.534641 146.624889 \nL 150.144588 146.925005 \nL 150.754535 147.622982 \nL 151.97443 147.403638 \nL 152.584377 147.689999 \nL 153.194324 148.363448 \nL 153.804271 148.250959 \nL 154.414218 148.911431 \nL 156.854007 149.963842 \nL 157.463954 149.472239 \nL 158.073901 150.098822 \nL 158.683848 150.349089 \nL 159.903743 151.566922 \nL 160.51369 150.719618 \nL 161.123637 150.959619 \nL 162.343531 150.721874 \nL 162.953479 150.957397 \nL 163.563426 150.839999 \nL 164.173373 151.071906 \nL 164.78332 150.609511 \nL 166.003214 151.067715 \nL 166.613162 150.27413 \nL 167.223109 150.165003 \nL 167.833056 150.39266 \nL 168.443003 150.284116 \nL 169.05295 149.84526 \nL 169.662897 150.070814 \nL 170.272845 150.6215 \nL 170.882792 150.514139 \nL 171.492739 150.732004 \nL 172.102686 150.625226 \nL 172.712633 150.839999 \nL 173.932528 150.628825 \nL 174.542475 150.839999 \nL 175.152422 150.422324 \nL 176.372316 150.220327 \nL 176.982263 149.196524 \nL 177.592211 149.103248 \nL 178.202158 148.70613 \nL 178.812105 148.616469 \nL 179.422052 148.22617 \nL 180.031999 148.139999 \nL 180.641946 148.651583 \nL 181.251894 148.267223 \nL 181.861841 148.477501 \nL 183.081735 147.722477 \nL 184.301629 147.561431 \nL 184.911577 148.057765 \nL 186.131471 147.895782 \nL 186.741418 147.532502 \nL 187.351365 148.019103 \nL 187.961312 148.220196 \nL 188.57126 147.860693 \nL 189.791154 148.258538 \nL 190.401101 147.904079 \nL 191.011048 148.100872 \nL 191.620995 147.750578 \nL 192.230943 147.132342 \nL 193.450837 146.4509 \nL 194.670731 146.847046 \nL 195.280678 147.307295 \nL 195.890626 147.499534 \nL 196.500573 147.9525 \nL 197.11052 147.878715 \nL 197.720467 147.545505 \nL 198.330414 147.474246 \nL 199.550309 147.846786 \nL 200.160256 148.285946 \nL 200.770203 147.958388 \nL 201.38015 147.886876 \nL 201.990097 148.068005 \nL 203.819939 147.109741 \nL 204.429886 147.29109 \nL 205.039833 147.71739 \nL 205.64978 147.649089 \nL 206.259727 147.336984 \nL 206.869675 147.514252 \nL 208.089569 148.346812 \nL 209.91941 148.854705 \nL 210.529358 149.258413 \nL 211.139305 149.4225 \nL 211.749252 149.820497 \nL 212.359199 149.980909 \nL 212.969146 150.373337 \nL 214.189041 150.685712 \nL 214.798988 149.918048 \nL 215.408935 149.84526 \nL 217.238776 148.95 \nL 217.848724 149.108131 \nL 218.458671 149.489999 \nL 219.068618 149.644741 \nL 220.288512 149.505883 \nL 221.508407 150.251672 \nL 222.118354 150.180701 \nL 222.728301 150.548112 \nL 223.338248 150.476541 \nL 223.948195 150.18828 \nL 224.558142 150.335038 \nL 225.16809 150.696273 \nL 225.778037 150.625226 \nL 226.387984 150.768681 \nL 226.997931 150.484737 \nL 227.607878 150.415286 \nL 229.43772 150.839999 \nL 230.047667 150.770261 \nL 230.657614 150.909483 \nL 231.877508 150.771021 \nL 232.487456 151.114911 \nL 233.70735 150.56708 \nL 234.927244 150.839999 \nL 235.537191 150.570004 \nL 236.147139 150.705483 \nL 237.367033 150.572859 \nL 237.97698 150.906551 \nL 238.586927 151.038946 \nL 239.196874 150.773919 \nL 240.416769 150.643129 \nL 241.026716 150.970797 \nL 242.856557 151.35781 \nL 243.466505 150.517477 \nL 244.076452 150.261431 \nL 244.686399 150.391528 \nL 245.296346 150.137637 \nL 245.906293 150.267278 \nL 246.51624 150.205769 \nL 247.126188 150.523948 \nL 248.346082 150.400467 \nL 248.956029 150.714836 \nL 249.565976 150.839999 \nL 250.175923 150.404801 \nL 251.395818 149.913528 \nL 252.005765 149.854985 \nL 253.225659 150.106021 \nL 253.835606 150.413225 \nL 254.445554 150.353829 \nL 256.885342 150.839999 \nL 257.495289 150.600758 \nL 258.715184 150.839999 \nL 259.325131 150.603014 \nL 260.545025 150.839999 \nL 261.154972 150.781304 \nL 261.76492 150.898516 \nL 262.374867 150.665004 \nL 262.984814 150.607382 \nL 264.204708 150.146424 \nL 266.03455 149.980909 \nL 266.644497 150.097707 \nL 267.254444 150.384583 \nL 268.474338 150.27413 \nL 269.084286 150.557913 \nL 269.694233 150.502505 \nL 270.30418 150.279174 \nL 270.914127 150.224914 \nL 271.524074 150.505487 \nL 272.743969 150.396597 \nL 273.353916 150.508419 \nL 273.963863 149.793063 \nL 274.57381 149.411516 \nL 275.183757 149.360873 \nL 277.013599 150.18828 \nL 277.623546 149.811059 \nL 278.233493 149.274001 \nL 278.84344 149.386153 \nL 279.453387 149.336591 \nL 280.063335 149.126685 \nL 280.673282 149.238304 \nL 281.283229 149.02986 \nL 281.893176 149.141124 \nL 282.503123 149.410587 \nL 283.11307 149.52017 \nL 283.723018 149.313263 \nL 284.332965 149.4225 \nL 284.942912 149.688203 \nL 285.552859 149.482547 \nL 286.162806 149.590415 \nL 286.772753 149.541926 \nL 287.382701 149.338357 \nL 288.602595 149.552538 \nL 289.212542 149.350599 \nL 289.822489 149.303412 \nL 290.432436 149.562972 \nL 291.042384 149.668306 \nL 291.652331 149.620645 \nL 292.262278 149.877265 \nL 292.872225 149.980909 \nL 293.482172 149.781598 \nL 294.092119 150.035742 \nL 294.702067 149.987744 \nL 295.312014 150.090001 \nL 295.921961 150.042113 \nL 296.531908 149.546843 \nL 297.751802 149.751519 \nL 298.36175 149.556974 \nL 299.581644 150.05455 \nL 300.801538 149.667908 \nL 302.021433 149.576761 \nL 302.63138 149.386153 \nL 303.241327 149.486552 \nL 303.851274 149.152505 \nL 305.681116 149.452409 \nL 307.510957 149.320403 \nL 308.730851 148.95 \nL 309.950746 149.147461 \nL 310.560693 149.104768 \nL 311.780587 149.580005 \nL 313.610429 149.867211 \nL 314.220376 149.684747 \nL 314.830323 149.779756 \nL 315.44027 149.736353 \nL 316.050217 149.417912 \nL 316.660165 149.650174 \nL 317.270112 149.607389 \nL 318.490006 148.977265 \nL 319.099953 148.936406 \nL 320.319848 149.125916 \nL 320.929795 148.815003 \nL 321.539742 148.909598 \nL 322.149689 149.138108 \nL 322.759636 149.231494 \nL 323.369583 149.056981 \nL 323.979531 149.016705 \nL 325.199425 149.202295 \nL 326.419319 149.650495 \nL 327.029266 149.741161 \nL 327.639214 149.436753 \nL 328.249161 149.265003 \nL 328.859108 149.486881 \nL 330.079002 149.666895 \nL 330.688949 149.626238 \nL 331.298897 149.456017 \nL 331.908844 149.545483 \nL 332.518791 149.505376 \nL 334.348632 149.770994 \nL 334.95858 149.602758 \nL 335.568527 149.690678 \nL 336.788421 149.356818 \nL 337.398368 149.317851 \nL 338.008315 149.532193 \nL 338.618263 149.493007 \nL 339.838157 149.918048 \nL 340.448104 149.878279 \nL 341.058051 149.963842 \nL 342.277946 150.383079 \nL 342.887893 150.21829 \nL 345.937629 150.63501 \nL 346.547576 150.349089 \nL 347.157523 150.431796 \nL 347.76747 150.147547 \nL 348.377417 150.108386 \nL 348.987365 149.947729 \nL 351.427153 150.277019 \nL 352.647048 149.718813 \nL 353.256995 149.681224 \nL 353.866942 149.883036 \nL 354.476889 149.725894 \nL 355.086836 149.926768 \nL 356.306731 149.495651 \nL 357.526625 149.65875 \nL 358.136572 149.621912 \nL 358.746519 149.702862 \nL 359.356466 149.666092 \nL 359.966414 149.863764 \nL 360.576361 149.826808 \nL 361.186308 150.023331 \nL 361.796255 149.869779 \nL 362.406202 150.065415 \nL 363.016149 149.912396 \nL 363.626097 149.875719 \nL 364.236044 149.954666 \nL 365.455938 149.536552 \nL 366.065885 149.615711 \nL 366.675832 149.465454 \nL 367.28578 149.65875 \nL 367.895727 149.509017 \nL 368.505674 149.473734 \nL 369.115621 149.324974 \nL 369.725568 149.517002 \nL 369.725568 149.517002 \n\" clip-path=\"url(#p5ef8dad234)\" style=\"fill: none; stroke: #8c564b; stroke-width: 1.5; stroke-linecap: square\"/>\n   </g>\n   <g id=\"line2d_22\">\n    <path d=\"M 50.14375 150.651001 \nL 384.94375 150.651001 \n\" clip-path=\"url(#p5ef8dad234)\" style=\"fill: none; stroke-dasharray: 5.55,2.4; stroke-dashoffset: 0; stroke: #000000; stroke-width: 1.5\"/>\n   </g>\n   <g id=\"patch_3\">\n    <path d=\"M 50.14375 256.68 \nL 50.14375 7.2 \n\" style=\"fill: none; stroke: #000000; stroke-width: 0.8; stroke-linejoin: miter; stroke-linecap: square\"/>\n   </g>\n   <g id=\"patch_4\">\n    <path d=\"M 384.94375 256.68 \nL 384.94375 7.2 \n\" style=\"fill: none; stroke: #000000; stroke-width: 0.8; stroke-linejoin: miter; stroke-linecap: square\"/>\n   </g>\n   <g id=\"patch_5\">\n    <path d=\"M 50.14375 256.68 \nL 384.94375 256.68 \n\" style=\"fill: none; stroke: #000000; stroke-width: 0.8; stroke-linejoin: miter; stroke-linecap: square\"/>\n   </g>\n   <g id=\"patch_6\">\n    <path d=\"M 50.14375 7.2 \nL 384.94375 7.2 \n\" style=\"fill: none; stroke: #000000; stroke-width: 0.8; stroke-linejoin: miter; stroke-linecap: square\"/>\n   </g>\n   <g id=\"legend_1\">\n    <g id=\"patch_7\">\n     <path d=\"M 302.089063 103.26875 \nL 377.94375 103.26875 \nQ 379.94375 103.26875 379.94375 101.26875 \nL 379.94375 14.2 \nQ 379.94375 12.2 377.94375 12.2 \nL 302.089063 12.2 \nQ 300.089063 12.2 300.089063 14.2 \nL 300.089063 101.26875 \nQ 300.089063 103.26875 302.089063 103.26875 \nz\n\" style=\"fill: #ffffff; opacity: 0.8; stroke: #cccccc; stroke-linejoin: miter\"/>\n    </g>\n    <g id=\"line2d_23\">\n     <path d=\"M 304.089063 20.298438 \nL 314.089063 20.298438 \nL 324.089063 20.298438 \n\" style=\"fill: none; stroke: #1f77b4; stroke-width: 1.5; stroke-linecap: square\"/>\n    </g>\n    <g id=\"text_18\">\n     <!-- P(die=1) -->\n     <g transform=\"translate(332.089063 23.798438)scale(0.1 -0.1)\">\n      <defs>\n       <path id=\"DejaVuSans-50\" d=\"M 1259 4147 \nL 1259 2394 \nL 2053 2394 \nQ 2494 2394 2734 2622 \nQ 2975 2850 2975 3272 \nQ 2975 3691 2734 3919 \nQ 2494 4147 2053 4147 \nL 1259 4147 \nz\nM 628 4666 \nL 2053 4666 \nQ 2838 4666 3239 4311 \nQ 3641 3956 3641 3272 \nQ 3641 2581 3239 2228 \nQ 2838 1875 2053 1875 \nL 1259 1875 \nL 1259 0 \nL 628 0 \nL 628 4666 \nz\n\" transform=\"scale(0.015625)\"/>\n       <path id=\"DejaVuSans-28\" d=\"M 1984 4856 \nQ 1566 4138 1362 3434 \nQ 1159 2731 1159 2009 \nQ 1159 1288 1364 580 \nQ 1569 -128 1984 -844 \nL 1484 -844 \nQ 1016 -109 783 600 \nQ 550 1309 550 2009 \nQ 550 2706 781 3412 \nQ 1013 4119 1484 4856 \nL 1984 4856 \nz\n\" transform=\"scale(0.015625)\"/>\n       <path id=\"DejaVuSans-3d\" d=\"M 678 2906 \nL 4684 2906 \nL 4684 2381 \nL 678 2381 \nL 678 2906 \nz\nM 678 1631 \nL 4684 1631 \nL 4684 1100 \nL 678 1100 \nL 678 1631 \nz\n\" transform=\"scale(0.015625)\"/>\n       <path id=\"DejaVuSans-29\" d=\"M 513 4856 \nL 1013 4856 \nQ 1481 4119 1714 3412 \nQ 1947 2706 1947 2009 \nQ 1947 1309 1714 600 \nQ 1481 -109 1013 -844 \nL 513 -844 \nQ 928 -128 1133 580 \nQ 1338 1288 1338 2009 \nQ 1338 2731 1133 3434 \nQ 928 4138 513 4856 \nz\n\" transform=\"scale(0.015625)\"/>\n      </defs>\n      <use xlink:href=\"#DejaVuSans-50\"/>\n      <use xlink:href=\"#DejaVuSans-28\" x=\"60.302734\"/>\n      <use xlink:href=\"#DejaVuSans-64\" x=\"99.316406\"/>\n      <use xlink:href=\"#DejaVuSans-69\" x=\"162.792969\"/>\n      <use xlink:href=\"#DejaVuSans-65\" x=\"190.576172\"/>\n      <use xlink:href=\"#DejaVuSans-3d\" x=\"252.099609\"/>\n      <use xlink:href=\"#DejaVuSans-31\" x=\"335.888672\"/>\n      <use xlink:href=\"#DejaVuSans-29\" x=\"399.511719\"/>\n     </g>\n    </g>\n    <g id=\"line2d_24\">\n     <path d=\"M 304.089063 34.976563 \nL 314.089063 34.976563 \nL 324.089063 34.976563 \n\" style=\"fill: none; stroke: #ff7f0e; stroke-width: 1.5; stroke-linecap: square\"/>\n    </g>\n    <g id=\"text_19\">\n     <!-- P(die=2) -->\n     <g transform=\"translate(332.089063 38.476563)scale(0.1 -0.1)\">\n      <use xlink:href=\"#DejaVuSans-50\"/>\n      <use xlink:href=\"#DejaVuSans-28\" x=\"60.302734\"/>\n      <use xlink:href=\"#DejaVuSans-64\" x=\"99.316406\"/>\n      <use xlink:href=\"#DejaVuSans-69\" x=\"162.792969\"/>\n      <use xlink:href=\"#DejaVuSans-65\" x=\"190.576172\"/>\n      <use xlink:href=\"#DejaVuSans-3d\" x=\"252.099609\"/>\n      <use xlink:href=\"#DejaVuSans-32\" x=\"335.888672\"/>\n      <use xlink:href=\"#DejaVuSans-29\" x=\"399.511719\"/>\n     </g>\n    </g>\n    <g id=\"line2d_25\">\n     <path d=\"M 304.089063 49.654688 \nL 314.089063 49.654688 \nL 324.089063 49.654688 \n\" style=\"fill: none; stroke: #2ca02c; stroke-width: 1.5; stroke-linecap: square\"/>\n    </g>\n    <g id=\"text_20\">\n     <!-- P(die=3) -->\n     <g transform=\"translate(332.089063 53.154688)scale(0.1 -0.1)\">\n      <use xlink:href=\"#DejaVuSans-50\"/>\n      <use xlink:href=\"#DejaVuSans-28\" x=\"60.302734\"/>\n      <use xlink:href=\"#DejaVuSans-64\" x=\"99.316406\"/>\n      <use xlink:href=\"#DejaVuSans-69\" x=\"162.792969\"/>\n      <use xlink:href=\"#DejaVuSans-65\" x=\"190.576172\"/>\n      <use xlink:href=\"#DejaVuSans-3d\" x=\"252.099609\"/>\n      <use xlink:href=\"#DejaVuSans-33\" x=\"335.888672\"/>\n      <use xlink:href=\"#DejaVuSans-29\" x=\"399.511719\"/>\n     </g>\n    </g>\n    <g id=\"line2d_26\">\n     <path d=\"M 304.089063 64.332813 \nL 314.089063 64.332813 \nL 324.089063 64.332813 \n\" style=\"fill: none; stroke: #d62728; stroke-width: 1.5; stroke-linecap: square\"/>\n    </g>\n    <g id=\"text_21\">\n     <!-- P(die=4) -->\n     <g transform=\"translate(332.089063 67.832813)scale(0.1 -0.1)\">\n      <use xlink:href=\"#DejaVuSans-50\"/>\n      <use xlink:href=\"#DejaVuSans-28\" x=\"60.302734\"/>\n      <use xlink:href=\"#DejaVuSans-64\" x=\"99.316406\"/>\n      <use xlink:href=\"#DejaVuSans-69\" x=\"162.792969\"/>\n      <use xlink:href=\"#DejaVuSans-65\" x=\"190.576172\"/>\n      <use xlink:href=\"#DejaVuSans-3d\" x=\"252.099609\"/>\n      <use xlink:href=\"#DejaVuSans-34\" x=\"335.888672\"/>\n      <use xlink:href=\"#DejaVuSans-29\" x=\"399.511719\"/>\n     </g>\n    </g>\n    <g id=\"line2d_27\">\n     <path d=\"M 304.089063 79.010938 \nL 314.089063 79.010938 \nL 324.089063 79.010938 \n\" style=\"fill: none; stroke: #9467bd; stroke-width: 1.5; stroke-linecap: square\"/>\n    </g>\n    <g id=\"text_22\">\n     <!-- P(die=5) -->\n     <g transform=\"translate(332.089063 82.510938)scale(0.1 -0.1)\">\n      <use xlink:href=\"#DejaVuSans-50\"/>\n      <use xlink:href=\"#DejaVuSans-28\" x=\"60.302734\"/>\n      <use xlink:href=\"#DejaVuSans-64\" x=\"99.316406\"/>\n      <use xlink:href=\"#DejaVuSans-69\" x=\"162.792969\"/>\n      <use xlink:href=\"#DejaVuSans-65\" x=\"190.576172\"/>\n      <use xlink:href=\"#DejaVuSans-3d\" x=\"252.099609\"/>\n      <use xlink:href=\"#DejaVuSans-35\" x=\"335.888672\"/>\n      <use xlink:href=\"#DejaVuSans-29\" x=\"399.511719\"/>\n     </g>\n    </g>\n    <g id=\"line2d_28\">\n     <path d=\"M 304.089063 93.689063 \nL 314.089063 93.689063 \nL 324.089063 93.689063 \n\" style=\"fill: none; stroke: #8c564b; stroke-width: 1.5; stroke-linecap: square\"/>\n    </g>\n    <g id=\"text_23\">\n     <!-- P(die=6) -->\n     <g transform=\"translate(332.089063 97.189063)scale(0.1 -0.1)\">\n      <defs>\n       <path id=\"DejaVuSans-36\" d=\"M 2113 2584 \nQ 1688 2584 1439 2293 \nQ 1191 2003 1191 1497 \nQ 1191 994 1439 701 \nQ 1688 409 2113 409 \nQ 2538 409 2786 701 \nQ 3034 994 3034 1497 \nQ 3034 2003 2786 2293 \nQ 2538 2584 2113 2584 \nz\nM 3366 4563 \nL 3366 3988 \nQ 3128 4100 2886 4159 \nQ 2644 4219 2406 4219 \nQ 1781 4219 1451 3797 \nQ 1122 3375 1075 2522 \nQ 1259 2794 1537 2939 \nQ 1816 3084 2150 3084 \nQ 2853 3084 3261 2657 \nQ 3669 2231 3669 1497 \nQ 3669 778 3244 343 \nQ 2819 -91 2113 -91 \nQ 1303 -91 875 529 \nQ 447 1150 447 2328 \nQ 447 3434 972 4092 \nQ 1497 4750 2381 4750 \nQ 2619 4750 2861 4703 \nQ 3103 4656 3366 4563 \nz\n\" transform=\"scale(0.015625)\"/>\n      </defs>\n      <use xlink:href=\"#DejaVuSans-50\"/>\n      <use xlink:href=\"#DejaVuSans-28\" x=\"60.302734\"/>\n      <use xlink:href=\"#DejaVuSans-64\" x=\"99.316406\"/>\n      <use xlink:href=\"#DejaVuSans-69\" x=\"162.792969\"/>\n      <use xlink:href=\"#DejaVuSans-65\" x=\"190.576172\"/>\n      <use xlink:href=\"#DejaVuSans-3d\" x=\"252.099609\"/>\n      <use xlink:href=\"#DejaVuSans-36\" x=\"335.888672\"/>\n      <use xlink:href=\"#DejaVuSans-29\" x=\"399.511719\"/>\n     </g>\n    </g>\n   </g>\n  </g>\n </g>\n <defs>\n  <clipPath id=\"p5ef8dad234\">\n   <rect x=\"50.14375\" y=\"7.2\" width=\"334.8\" height=\"249.48\"/>\n  </clipPath>\n </defs>\n</svg>\n"
     },
     "metadata": {},
     "output_type": "display_data"
    }
   ],
   "source": [
    "d2l.set_figsize((6, 4.5))\n",
    "for i in range(6):\n",
    "    d2l.plt.plot(estimates[:, i].numpy(),\n",
    "             label=(f'P(die={str(i + 1)})'))\n",
    "d2l.plt.axhline(y=0.167, color='black', linestyle='dashed')\n",
    "d2l.plt.gca().set_xlabel('Groups of experiments')\n",
    "d2l.plt.gca().set_ylabel('Estimated probability')\n",
    "d2l.plt.legend()"
   ],
   "metadata": {
    "collapsed": false
   }
  },
  {
   "cell_type": "code",
   "execution_count": null,
   "outputs": [],
   "source": [],
   "metadata": {
    "collapsed": false
   }
  }
 ],
 "metadata": {
  "kernelspec": {
   "display_name": "Python 3",
   "language": "python",
   "name": "python3"
  },
  "language_info": {
   "codemirror_mode": {
    "name": "ipython",
    "version": 2
   },
   "file_extension": ".py",
   "mimetype": "text/x-python",
   "name": "python",
   "nbconvert_exporter": "python",
   "pygments_lexer": "ipython2",
   "version": "2.7.6"
  }
 },
 "nbformat": 4,
 "nbformat_minor": 0
}
